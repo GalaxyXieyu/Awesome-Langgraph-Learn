{
  "cells": [
    {
      "cell_type": "markdown",
      "metadata": {},
      "source": [
        "# 🎓 LangSmith Prompt Pipeline 课程演示\n",
        "\n",
        "> 简洁版演示 Notebook - 适合快速上手和课程演示\n",
        "\n",
        "本教程将演示：\n",
        "- ✅ 测试 LLM 连接和监控\n",
        "- ✅ 测试提示词（Prompt）\n",
        "- ✅ 运行完整 Graph 流程\n",
        "- ✅ 保存和管理 Dataset\n"
      ]
    },
    {
      "cell_type": "markdown",
      "metadata": {},
      "source": [
        "## 📦 1. 环境准备\n",
        "\n",
        "### ⚠️ 重要提示\n",
        "\n",
        "**使用 LangSmith 追踪功能，必须按顺序执行以下步骤：**\n",
        "\n",
        "1. **运行 Cell 2** - 导入所有模块\n",
        "2. **运行 Cell 3** - 启用 LangSmith 追踪（每次启动 notebook 都要运行）\n",
        "3. 然后才能运行其他带追踪的 cell\n",
        "\n",
        "**如果看不到追踪记录：**\n",
        "- 检查 Cell 3 是否运行成功\n",
        "- 检查输出中 `LANGCHAIN_TRACING_V2` 是否为 `true`\n",
        "- Kernel 重启后需要重新运行 Cell 2 和 Cell 3\n",
        "\n",
        "---\n",
        "\n",
        "### 环境变量配置\n",
        "\n",
        "确保 `.env` 文件配置正确：\n",
        "\n",
        "```bash\n",
        "# LangSmith（可选）\n",
        "LANGSMITH_API_KEY=\"lsv2_pt_xxxx\"\n",
        "LANGSMITH_PROJECT=\"economic_report\"\n",
        "\n",
        "# Azure OpenAI\n",
        "LLM_PROVIDER=\"azure\"\n",
        "AZURE_ENDPOINT=\"https://xxx.openai.azure.com/\"\n",
        "AZURE_DEPLOYMENT=\"gpt-4\"\n",
        "AZURE_API_KEY=\"your-key\"\n",
        "```\n"
      ]
    },
    {
      "cell_type": "code",
      "execution_count": null,
      "metadata": {},
      "outputs": [],
      "source": [
        "!pip install perplexityai"
      ]
    },
    {
      "cell_type": "code",
      "execution_count": 3,
      "metadata": {},
      "outputs": [
        {
          "name": "stdout",
          "output_type": "stream",
          "text": [
            "✓ 模块导入成功\n"
          ]
        }
      ],
      "source": [
        "# 导入必要模块\n",
        "import sys\n",
        "\n",
        "# 尝试配置输出编码（某些环境可能不支持）\n",
        "try:\n",
        "    sys.stdout.reconfigure(encoding='utf-8')\n",
        "except AttributeError:\n",
        "    # Jupyter notebook 环境通常不需要这个配置\n",
        "    pass\n",
        "\n",
        "from config.langsmith_config import LangSmithConfig\n",
        "from config.azure_config import AzureConfig\n",
        "from graph.graph import ReportGraphBuilder\n",
        "from prompts.prompt_manager import PromptManager\n",
        "from evaluation.datasets import DatasetManager\n",
        "from tools.capture import capture_inputs, list_all_captures, sync_all_captures\n",
        "\n",
        "print(\"✓ 模块导入成功\")\n"
      ]
    },
    {
      "cell_type": "code",
      "execution_count": 4,
      "metadata": {},
      "outputs": [
        {
          "name": "stdout",
          "output_type": "stream",
          "text": [
            "[OK] LangSmith 追踪已启用\n",
            "  项目: economic_report\n",
            "  查看追踪: https://smith.langchain.com/o/default/projects\n",
            "\n",
            "🔍 追踪配置检查:\n",
            "  LANGCHAIN_TRACING_V2: true\n",
            "  LANGCHAIN_PROJECT: economic_report\n",
            "  LANGCHAIN_API_KEY: 已配置 ✓\n",
            "\n",
            "✓ LangSmith 追踪已成功启用\n",
            "📊 项目名称: economic_report\n",
            "📊 查看追踪: https://smith.langchain.com/o/default/projects/p/economic_report\n"
          ]
        }
      ],
      "source": [
        "# 启用 LangSmith 追踪（可选）\n",
        "# ⚠️ 重要：每次运行 notebook 或重启 kernel 后都要运行这个 cell\n",
        "import os\n",
        "\n",
        "# 项目名称会使用 .env 文件中的 LANGSMITH_PROJECT 配置\n",
        "# 如果想使用不同的项目名称，可以在这里指定\n",
        "LangSmithConfig.enable_tracing(project_name=\"economic_report\")\n",
        "\n",
        "# 验证环境变量是否设置成功\n",
        "print(\"\\n🔍 追踪配置检查:\")\n",
        "print(f\"  LANGCHAIN_TRACING_V2: {os.getenv('LANGCHAIN_TRACING_V2')}\")\n",
        "print(f\"  LANGCHAIN_PROJECT: {os.getenv('LANGCHAIN_PROJECT')}\")\n",
        "print(f\"  LANGCHAIN_API_KEY: {'已配置 ✓' if os.getenv('LANGCHAIN_API_KEY') else '未配置 ✗'}\")\n",
        "\n",
        "if os.getenv('LANGCHAIN_TRACING_V2') == 'true':\n",
        "    print(\"\\n✓ LangSmith 追踪已成功启用\")\n",
        "    print(\"📊 项目名称: economic_report\")\n",
        "    print(\"📊 查看追踪: https://smith.langchain.com/o/default/projects/p/economic_report\")\n",
        "else:\n",
        "    print(\"\\n⚠️ 警告: 追踪未启用，请检查 LANGSMITH_API_KEY 配置\")\n"
      ]
    },
    {
      "cell_type": "markdown",
      "metadata": {},
      "source": [
        "---\n",
        "\n",
        "## 🔧 2. LLM 测试与监控\n",
        "\n",
        "### 2.1 基础 LLM 测试\n"
      ]
    },
    {
      "cell_type": "code",
      "execution_count": null,
      "metadata": {},
      "outputs": [],
      "source": [
        "# 导入必要模块（如果单独运行此 cell）\n",
        "from config.azure_config import AzureConfig\n",
        "\n",
        "# 创建 LLM 实例\n",
        "llm = AzureConfig.get_llm()\n",
        "\n",
        "# 简单测试\n",
        "response = llm.invoke(\"你好，请简单介绍一下什么是 LangSmith？\")\n",
        "print(f\"✓ LLM 响应:\\n{response.content}\")\n"
      ]
    },
    {
      "cell_type": "markdown",
      "metadata": {},
      "source": [
        "### 2.2 带监控的 LLM 调用\n",
        "\n",
        "使用 `@traceable` 装饰器自动追踪 LLM 调用：\n"
      ]
    },
    {
      "cell_type": "code",
      "execution_count": null,
      "metadata": {},
      "outputs": [],
      "source": [
        "from langsmith import traceable\n",
        "from config.azure_config import AzureConfig\n",
        "\n",
        "@traceable(name=\"economic_report\")\n",
        "def test_llm_call(query: str):\n",
        "    \"\"\"带监控的 LLM 调用示例\"\"\"\n",
        "    llm = AzureConfig.get_llm()\n",
        "    response = llm.invoke(query)\n",
        "    return response.content\n",
        "\n",
        "# 测试\n",
        "result = test_llm_call(\"请用一句话解释什么是 LangGraph？\")\n",
        "print(f\"\\n响应: {result}\")\n",
        "print(\"\\n💡 访问 LangSmith 控制台查看完整追踪链路\")\n"
      ]
    },
    {
      "cell_type": "markdown",
      "metadata": {},
      "source": [
        "---\n",
        "\n",
        "## 📝 3. 测试提示词（Prompt）\n",
        "\n",
        "### 3.1 查看可用的提示词\n"
      ]
    },
    {
      "cell_type": "code",
      "execution_count": 5,
      "metadata": {},
      "outputs": [
        {
          "name": "stdout",
          "output_type": "stream",
          "text": [
            "可用的提示词:\n",
            "\n",
            "  📝 parameter_parser\n",
            "     文件: parameter_parser.yaml\n",
            "     描述: 从用户输入中提取结构化参数\n",
            "\n",
            "  📝 report_generator\n",
            "     文件: report_generator.yaml\n",
            "     描述: 生成结构化的分析报告\n",
            "\n"
          ]
        }
      ],
      "source": [
        "# 导入必要模块（如果单独运行此 cell）\n",
        "from prompts.prompt_manager import PromptManager\n",
        "\n",
        "# 创建 Prompt 管理器\n",
        "prompt_manager = PromptManager()\n",
        "\n",
        "# 列出所有提示词\n",
        "print(\"可用的提示词:\\n\")\n",
        "for name, config in prompt_manager.config.get('prompts', {}).items():\n",
        "    print(f\"  📝 {name}\")\n",
        "    print(f\"     文件: {config.get('file')}\")\n",
        "    if config.get('description'):\n",
        "        print(f\"     描述: {config.get('description')}\")\n",
        "    print()\n"
      ]
    },
    {
      "cell_type": "markdown",
      "metadata": {},
      "source": [
        "### 3.2 单独测试参数解析提示词\n"
      ]
    },
    {
      "cell_type": "code",
      "execution_count": null,
      "metadata": {},
      "outputs": [],
      "source": [
        "# 导入必要模块（如果单独运行此 cell）\n",
        "from prompts.prompt_manager import PromptManager\n",
        "from config.azure_config import AzureConfig\n",
        "\n",
        "# 获取参数解析提示词\n",
        "prompt_manager = PromptManager()\n",
        "config = prompt_manager.get('parameter_parser')  # 获取配置字典\n",
        "parameter_prompt = prompt_manager.create_prompt(config)  # 创建 Prompt 对象\n",
        "print(parameter_prompt)\n",
        "# 测试输入\n",
        "test_query = \"写一份关于人工智能行业2024年的正式详细分析报告，重点关注技术创新和市场趋势\"\n",
        "\n",
        "print(f\"测试查询: {test_query}\\n\")\n",
        "\n",
        "# 创建 Chain\n",
        "llm = AzureConfig.get_llm()\n",
        "chain = parameter_prompt | llm\n",
        "\n",
        "# 调用\n",
        "result = chain.invoke({\"user_query\": test_query})\n",
        "\n",
        "print(\"解析结果:\")\n",
        "print(result.content)"
      ]
    },
    {
      "cell_type": "markdown",
      "metadata": {},
      "source": [
        "### 3.3 测试报告生成提示词\n"
      ]
    },
    {
      "cell_type": "code",
      "execution_count": null,
      "metadata": {},
      "outputs": [],
      "source": [
        "# 导入必要模块（如果单独运行此 cell）\n",
        "from prompts.prompt_manager import PromptManager\n",
        "from config.azure_config import AzureConfig\n",
        "\n",
        "# 获取报告生成提示词\n",
        "prompt_manager = PromptManager()\n",
        "config = prompt_manager.get('report_generator')  # 获取配置字典\n",
        "report_prompt = prompt_manager.create_prompt(config)  # 创建 Prompt 对象\n",
        "print(str(report_prompt))\n",
        "# 模拟输入参数\n",
        "inputs = {\n",
        "    \"topic\": \"人工智能行业发展分析\",\n",
        "    \"year_range\": \"2024\",\n",
        "    \"style\": \"formal\",\n",
        "    \"depth\": \"medium\",\n",
        "    \"focus_areas\": \"技术创新,市场趋势\",\n",
        "    \"search_results\": \"\"\"相关资料摘要：\n",
        "    - 2024年人工智能市场规模预计达到5000亿美元\n",
        "    - 生成式AI技术快速发展，ChatGPT用户突破2亿\n",
        "    - 企业AI应用率从30%提升至60%\n",
        "    \"\"\"\n",
        "}\n",
        "\n",
        "# 创建 Chain 并调用\n",
        "llm = AzureConfig.get_llm()\n",
        "chain = report_prompt | llm\n",
        "result = chain.invoke(inputs)\n",
        "\n",
        "print(\"\\n\" + \"=\"*60)\n",
        "print(\"生成的报告:\")\n",
        "print(\"=\"*60)\n",
        "print(result.content)\n"
      ]
    },
    {
      "cell_type": "markdown",
      "metadata": {},
      "source": [
        "---\n",
        "\n",
        "## 🔄 4. 运行完整 Graph 流程\n",
        "\n",
        "### 4.1 快速生成报告\n"
      ]
    },
    {
      "cell_type": "code",
      "execution_count": null,
      "metadata": {},
      "outputs": [],
      "source": [
        "# 导入必要模块（如果单独运行此 cell）\n",
        "from graph.graph import ReportGraphBuilder\n",
        "\n",
        "# 创建 Graph 构建器\n",
        "builder = ReportGraphBuilder()\n",
        "\n",
        "# 运行\n",
        "user_query = \"写一份关于区块链技术2024年应用趋势的分析报告\"\n",
        "\n",
        "result = builder.run(user_query=user_query)\n",
        "\n",
        "# 查看结果\n",
        "print(\"\\n\" + \"=\"*60)\n",
        "print(\"生成的报告:\")\n",
        "print(\"=\"*60)\n",
        "print(result.get('report', '')[:500] + \"...\\n\")\n",
        "\n",
        "# 查看元数据\n",
        "print(\"元数据:\")\n",
        "for key, value in result.get('metadata', {}).items():\n",
        "    print(f\"  {key}: {value}\")\n"
      ]
    },
    {
      "cell_type": "markdown",
      "metadata": {},
      "source": [
        "### 4.2 带参数的生成\n"
      ]
    },
    {
      "cell_type": "code",
      "execution_count": null,
      "metadata": {},
      "outputs": [],
      "source": [
        "# 导入必要模块（如果单独运行此 cell）\n",
        "from graph.graph import ReportGraphBuilder\n",
        "\n",
        "# 创建构建器（如果之前没有创建）\n",
        "if 'builder' not in locals():\n",
        "    builder = ReportGraphBuilder()\n",
        "\n",
        "# 带详细参数运行\n",
        "result = builder.run(\n",
        "    user_query=\"金融科技行业分析\",\n",
        "    year_range=\"2024\",\n",
        "    style=\"formal\",\n",
        "    depth=\"deep\",\n",
        "    focus_areas=\"技术创新,监管政策\"\n",
        ")\n",
        "\n",
        "print(\"提取的参数:\")\n",
        "print(f\"  主题: {result.get('topic')}\")\n",
        "print(f\"  年份: {result.get('year_range')}\")\n",
        "print(f\"  风格: {result.get('style')}\")\n",
        "print(f\"  深度: {result.get('depth')}\")\n",
        "print(f\"  关注领域: {result.get('focus_areas')}\")\n",
        "\n",
        "print(\"\\n报告预览:\")\n",
        "print(result.get('report', '')[:300] + \"...\")\n"
      ]
    },
    {
      "cell_type": "markdown",
      "metadata": {},
      "source": [
        "### 4.3 异步流式输出（查看每个节点执行）\n"
      ]
    },
    {
      "cell_type": "code",
      "execution_count": null,
      "metadata": {},
      "outputs": [],
      "source": [
        "# 导入必要模块（如果单独运行此 cell）\n",
        "from graph.graph import ReportGraphBuilder\n",
        "\n",
        "# 创建构建器（如果之前没有创建）\n",
        "if 'builder' not in locals():\n",
        "    builder = ReportGraphBuilder()\n",
        "\n",
        "# 异步模式可以看到每个节点的执行过程\n",
        "result = await builder.arun(\n",
        "    user_query=\"人工智能医疗应用2024年发展趋势\"\n",
        ")\n",
        "\n",
        "print(\"\\n最终报告:\")\n",
        "print(result.get('report', '')[:400] + \"...\")\n"
      ]
    },
    {
      "cell_type": "markdown",
      "metadata": {},
      "source": [
        "---\n",
        "\n",
        "## 💾 5. Dataset 管理\n",
        "\n",
        "### 5.1 查看已捕获的数据\n"
      ]
    },
    {
      "cell_type": "code",
      "execution_count": null,
      "metadata": {},
      "outputs": [],
      "source": [
        "# 导入必要模块（如果单独运行此 cell）\n",
        "from tools.capture import list_all_captures\n",
        "\n",
        "# 列出所有捕获的测试数据\n",
        "captures = list_all_captures()\n",
        "\n",
        "print(f\"\\n共捕获 {len(captures)} 条测试数据\")\n"
      ]
    },
    {
      "cell_type": "markdown",
      "metadata": {},
      "source": [
        "### 5.2 同步数据到 LangSmith Dataset\n"
      ]
    },
    {
      "cell_type": "code",
      "execution_count": null,
      "metadata": {},
      "outputs": [],
      "source": [
        "# 导入必要模块（如果单独运行此 cell）\n",
        "from tools.capture import sync_all_captures\n",
        "\n",
        "# 批量同步到 LangSmith\n",
        "stats = sync_all_captures()\n",
        "\n",
        "print(f\"\\n同步完成！\")\n",
        "print(f\"  总数: {stats['total']}\")\n",
        "print(f\"  已同步: {stats['synced']}\")\n",
        "print(\"\\n📊 访问 LangSmith 查看 Dataset: https://smith.langchain.com/datasets\")\n"
      ]
    },
    {
      "cell_type": "markdown",
      "metadata": {},
      "source": [
        "### 5.3 创建自定义 Dataset\n"
      ]
    },
    {
      "cell_type": "code",
      "execution_count": null,
      "metadata": {},
      "outputs": [],
      "source": [
        "# 导入必要模块（如果单独运行此 cell）\n",
        "from evaluation.datasets import DatasetManager\n",
        "\n",
        "# 创建 Dataset 管理器\n",
        "dataset_manager = DatasetManager()\n",
        "\n",
        "# 准备测试用例\n",
        "test_cases = [\n",
        "    {\n",
        "        \"id\": \"test_1\",\n",
        "        \"name\": \"人工智能报告测试\",\n",
        "        \"input\": {\n",
        "            \"user_query\": \"写一份人工智能行业2024年发展报告\"\n",
        "        },\n",
        "        \"expected_params\": {\n",
        "            \"topic\": \"人工智能行业发展\",\n",
        "            \"year_range\": \"2024\"\n",
        "        },\n",
        "        \"quality_criteria\": {\n",
        "            \"min_length\": 500,\n",
        "            \"has_conclusion\": True\n",
        "        }\n",
        "    },\n",
        "    {\n",
        "        \"id\": \"test_2\",\n",
        "        \"name\": \"金融科技报告测试\",\n",
        "        \"input\": {\n",
        "            \"user_query\": \"金融科技2024年趋势分析，要正式风格\"\n",
        "        },\n",
        "        \"expected_params\": {\n",
        "            \"topic\": \"金融科技趋势\",\n",
        "            \"year_range\": \"2024\",\n",
        "            \"style\": \"formal\"\n",
        "        },\n",
        "        \"quality_criteria\": {\n",
        "            \"min_length\": 500,\n",
        "            \"has_conclusion\": True\n",
        "        }\n",
        "    }\n",
        "]\n",
        "\n",
        "# 创建 Dataset\n",
        "dataset_id = dataset_manager.create_dataset(\n",
        "    dataset_name=\"tutorial_test_cases\",\n",
        "    description=\"课程演示测试数据集\",\n",
        "    test_cases=test_cases\n",
        ")\n",
        "\n",
        "print(f\"\\n✓ Dataset 创建成功！\")\n",
        "print(f\"  Dataset ID: {dataset_id}\")\n",
        "print(f\"  测试用例数: {len(test_cases)}\")\n"
      ]
    },
    {
      "cell_type": "markdown",
      "metadata": {},
      "source": [
        "### 5.4 列出所有 Dataset\n"
      ]
    },
    {
      "cell_type": "code",
      "execution_count": null,
      "metadata": {},
      "outputs": [],
      "source": [
        "# 导入必要模块（如果单独运行此 cell）\n",
        "from evaluation.datasets import DatasetManager\n",
        "\n",
        "# 列出所有 Dataset\n",
        "dataset_manager = DatasetManager()\n",
        "datasets = dataset_manager.list_datasets()\n",
        "\n",
        "print(f\"\\n找到 {len(datasets)} 个 Dataset\")\n"
      ]
    },
    {
      "cell_type": "markdown",
      "metadata": {},
      "source": [
        "---\n",
        "\n",
        "## 🎯 7. Capture 自动收集数据集\n",
        "\n",
        "### 7.1 什么是 Capture？\n",
        "\n",
        "Capture 装饰器可以在运行 Graph 时**自动捕获** LLM 的输入参数，用于：\n",
        "- 自动构建测试数据集\n",
        "- 记录真实使用场景\n",
        "- 后续评估和优化\n"
      ]
    },
    {
      "cell_type": "code",
      "execution_count": 3,
      "metadata": {},
      "outputs": [
        {
          "name": "stdout",
          "output_type": "stream",
          "text": [
            "\n",
            "找到 6 条捕获数据:\n",
            "\n",
            "================================================================================\n",
            "1. [  未同步] parameter_parser → param_parser_tests\n",
            "   时间: 2025-10-28T22:26:15.407629\n",
            "   Inputs: ['user_query']\n",
            "     - user_query: 写一份人工智能行业2024年发展报告\n",
            "--------------------------------------------------------------------------------\n",
            "2. [  未同步] parameter_parser → param_parser_tests\n",
            "   时间: 2025-10-28T22:26:17.925495\n",
            "   Inputs: ['user_query']\n",
            "     - user_query: 分析金融科技2024年趋势，要求正式风格，深度分析\n",
            "--------------------------------------------------------------------------------\n",
            "3. [  未同步] parameter_parser → param_parser_tests\n",
            "   时间: 2025-10-28T22:26:20.335926\n",
            "   Inputs: ['user_query']\n",
            "     - user_query: 云计算市场2024年简要分析\n",
            "--------------------------------------------------------------------------------\n",
            "4. [  未同步] parameter_parser → param_parser_tests\n",
            "   时间: 2025-10-28T22:29:51.854803\n",
            "   Inputs: ['user_query']\n",
            "     - user_query: 写一份人工智能行业2024年发展报告\n",
            "--------------------------------------------------------------------------------\n",
            "5. [  未同步] parameter_parser → param_parser_tests\n",
            "   时间: 2025-10-28T22:29:54.607669\n",
            "   Inputs: ['user_query']\n",
            "     - user_query: 分析金融科技2024年趋势，要求正式风格，深度分析\n",
            "--------------------------------------------------------------------------------\n",
            "6. [  未同步] parameter_parser → param_parser_tests\n",
            "   时间: 2025-10-28T22:29:57.137948\n",
            "   Inputs: ['user_query']\n",
            "     - user_query: 云计算市场2024年简要分析\n",
            "--------------------------------------------------------------------------------\n",
            "\n",
            "💡 当前共有 6 条捕获数据\n"
          ]
        }
      ],
      "source": [
        "# 查看当前捕获的数据\n",
        "from tools.capture import list_all_captures\n",
        "\n",
        "captures = list_all_captures(verbose=True)\n",
        "print(f\"\\n💡 当前共有 {len(captures)} 条捕获数据\")\n"
      ]
    },
    {
      "cell_type": "markdown",
      "metadata": {},
      "source": [
        "### 7.2 使用 @capture_dataset 装饰器\n",
        "\n",
        "装饰器会自动捕获函数中调用 LLM 时传入的参数：\n"
      ]
    },
    {
      "cell_type": "code",
      "execution_count": 2,
      "metadata": {},
      "outputs": [
        {
          "name": "stdout",
          "output_type": "stream",
          "text": [
            "🚀 开始测试并捕获数据...\n",
            "\n",
            "[1/3] 测试: 写一份人工智能行业2024年发展报告\n",
            "[*] 检查远程更新: parameter_parser...\n",
            "[OK] 已从 Hub 同步最新版本\n",
            "[Capture] 已保存: parameter_parser → run_20251028_222951_854754.json\n",
            "✓ 完成\n",
            "  解析结果预览: ```json\n",
            "{\n",
            "    \"topic\": \"人工智能行业2024年发展\",\n",
            "    \"year_range\": \"2023-2024\",\n",
            "    \"styl...\n",
            "\n",
            "[2/3] 测试: 分析金融科技2024年趋势，要求正式风格，深度分析\n",
            "[*] 检查远程更新: parameter_parser...\n",
            "[OK] 已从 Hub 同步最新版本\n",
            "[Capture] 已保存: parameter_parser → run_20251028_222954_607601.json\n",
            "✓ 完成\n",
            "  解析结果预览: ```json\n",
            "{\n",
            "    \"topic\": \"金融科技2024年趋势\",\n",
            "    \"year_range\": \"2023-2024\",\n",
            "    \"style\"...\n",
            "\n",
            "[3/3] 测试: 云计算市场2024年简要分析\n",
            "[*] 检查远程更新: parameter_parser...\n",
            "[OK] 已从 Hub 同步最新版本\n",
            "[Capture] 已保存: parameter_parser → run_20251028_222957_137882.json\n",
            "✓ 完成\n",
            "  解析结果预览: ```json\n",
            "{\n",
            "    \"topic\": \"云计算市场\",\n",
            "    \"year_range\": \"2024\",\n",
            "    \"style\": \"formal\",...\n",
            "\n",
            "============================================================\n",
            "✓ 所有测试完成！数据已自动捕获到本地\n"
          ]
        }
      ],
      "source": [
        "from langsmith import traceable\n",
        "from tools.capture import capture_dataset, capture_inputs\n",
        "from prompts.prompt_manager import PromptManager\n",
        "from config.azure_config import AzureConfig\n",
        "\n",
        "# 使用 @capture_dataset 装饰器（auto_sync=False 表示只保存到本地）\n",
        "@traceable(name=\"test_parameter_parser_with_capture\")\n",
        "@capture_dataset(prompt_name=\"parameter_parser\", dataset_name=\"param_parser_tests\", auto_sync=False)\n",
        "def test_param_parser_with_capture(user_query: str):\n",
        "    \"\"\"测试参数解析并自动捕获数据\"\"\"\n",
        "    \n",
        "    # 获取提示词\n",
        "    prompt_manager = PromptManager()\n",
        "    config = prompt_manager.get('parameter_parser')\n",
        "    prompt = prompt_manager.create_prompt(config)\n",
        "    \n",
        "    # 准备输入\n",
        "    inputs = {\"user_query\": user_query}\n",
        "    \n",
        "    # 🔑 关键：调用 capture_inputs 标记要捕获的数据\n",
        "    capture_inputs(inputs, metadata={\"source\": \"tutorial_demo\"})\n",
        "    \n",
        "    # 调用 LLM\n",
        "    llm = AzureConfig.get_llm()\n",
        "    chain = prompt | llm\n",
        "    result = chain.invoke(inputs)\n",
        "    \n",
        "    return result.content\n",
        "\n",
        "# 测试多个查询\n",
        "test_queries = [\n",
        "    \"写一份人工智能行业2024年发展报告\",\n",
        "    \"分析金融科技2024年趋势，要求正式风格，深度分析\",\n",
        "    \"云计算市场2024年简要分析\"\n",
        "]\n",
        "\n",
        "print(\"🚀 开始测试并捕获数据...\\n\")\n",
        "\n",
        "for i, query in enumerate(test_queries, 1):\n",
        "    print(f\"[{i}/{len(test_queries)}] 测试: {query}\")\n",
        "    result = test_param_parser_with_capture(query)\n",
        "    print(f\"✓ 完成\")\n",
        "    print(f\"  解析结果预览: {result[:80]}...\\n\")\n",
        "\n",
        "print(\"=\"*60)\n",
        "print(\"✓ 所有测试完成！数据已自动捕获到本地\")\n"
      ]
    },
    {
      "cell_type": "markdown",
      "metadata": {},
      "source": [
        "### 7.3 查看捕获的数据\n"
      ]
    },
    {
      "cell_type": "code",
      "execution_count": 4,
      "metadata": {},
      "outputs": [
        {
          "name": "stdout",
          "output_type": "stream",
          "text": [
            "\n",
            "找到 6 条捕获数据:\n",
            "\n",
            "================================================================================\n",
            "1. [  未同步] parameter_parser → param_parser_tests\n",
            "   时间: 2025-10-28T22:26:15.407629\n",
            "   Inputs: ['user_query']\n",
            "     - user_query: 写一份人工智能行业2024年发展报告\n",
            "--------------------------------------------------------------------------------\n",
            "2. [  未同步] parameter_parser → param_parser_tests\n",
            "   时间: 2025-10-28T22:26:17.925495\n",
            "   Inputs: ['user_query']\n",
            "     - user_query: 分析金融科技2024年趋势，要求正式风格，深度分析\n",
            "--------------------------------------------------------------------------------\n",
            "3. [  未同步] parameter_parser → param_parser_tests\n",
            "   时间: 2025-10-28T22:26:20.335926\n",
            "   Inputs: ['user_query']\n",
            "     - user_query: 云计算市场2024年简要分析\n",
            "--------------------------------------------------------------------------------\n",
            "4. [  未同步] parameter_parser → param_parser_tests\n",
            "   时间: 2025-10-28T22:29:51.854803\n",
            "   Inputs: ['user_query']\n",
            "     - user_query: 写一份人工智能行业2024年发展报告\n",
            "--------------------------------------------------------------------------------\n",
            "5. [  未同步] parameter_parser → param_parser_tests\n",
            "   时间: 2025-10-28T22:29:54.607669\n",
            "   Inputs: ['user_query']\n",
            "     - user_query: 分析金融科技2024年趋势，要求正式风格，深度分析\n",
            "--------------------------------------------------------------------------------\n",
            "6. [  未同步] parameter_parser → param_parser_tests\n",
            "   时间: 2025-10-28T22:29:57.137948\n",
            "   Inputs: ['user_query']\n",
            "     - user_query: 云计算市场2024年简要分析\n",
            "--------------------------------------------------------------------------------\n",
            "\n",
            "📊 统计:\n",
            "  新增捕获: 0 条\n",
            "  总计: 6 条\n"
          ]
        }
      ],
      "source": [
        "# 再次查看捕获的数据（应该增加了）\n",
        "captures_after = list_all_captures(verbose=True)\n",
        "\n",
        "print(f\"\\n📊 统计:\")\n",
        "print(f\"  新增捕获: {len(captures_after) - len(captures)} 条\")\n",
        "print(f\"  总计: {len(captures_after)} 条\")\n"
      ]
    },
    {
      "cell_type": "markdown",
      "metadata": {},
      "source": [
        "### 7.4 同步数据到 LangSmith Dataset\n",
        "\n",
        "将本地捕获的数据批量同步到 LangSmith：\n"
      ]
    },
    {
      "cell_type": "code",
      "execution_count": 5,
      "metadata": {},
      "outputs": [
        {
          "name": "stdout",
          "output_type": "stream",
          "text": [
            "\n",
            "============================================================\n",
            "批量同步工具\n",
            "============================================================\n",
            "\n",
            "找到 6 条捕获数据\n",
            "待同步: 6 条\n",
            "\n",
            "按 Dataset 分组:\n",
            "  - param_parser_tests: 6 条\n",
            "\n",
            "============================================================\n",
            "同步到 Dataset: param_parser_tests\n",
            "============================================================\n",
            "[Sync] 已同步到 LangSmith: param_parser_tests\n",
            "  [1/6] ✓ parameter_parser\n",
            "[Sync] 已同步到 LangSmith: param_parser_tests\n",
            "  [2/6] ✓ parameter_parser\n",
            "[Sync] 已同步到 LangSmith: param_parser_tests\n",
            "  [3/6] ✓ parameter_parser\n",
            "[Sync] 已同步到 LangSmith: param_parser_tests\n",
            "  [4/6] ✓ parameter_parser\n",
            "[Sync] 已同步到 LangSmith: param_parser_tests\n",
            "  [5/6] ✓ parameter_parser\n",
            "[Sync] 已同步到 LangSmith: param_parser_tests\n",
            "  [6/6] ✓ parameter_parser\n",
            "\n",
            "============================================================\n",
            "同步完成！共同步 6 条数据\n",
            "============================================================\n",
            "\n",
            "\n",
            "✓ 同步完成\n",
            "  新同步: 6 条\n",
            "  总计: 6 条\n",
            "\n",
            "📊 访问 LangSmith 查看 Dataset:\n",
            "   https://smith.langchain.com/datasets\n"
          ]
        }
      ],
      "source": [
        "# 同步到 LangSmith\n",
        "from tools.capture import sync_all_captures\n",
        "\n",
        "try:\n",
        "    stats = sync_all_captures(dataset_filter=\"param_parser_tests\")\n",
        "    \n",
        "    if stats['synced'] > 0:\n",
        "        print(f\"\\n✓ 同步完成\")\n",
        "        print(f\"  新同步: {stats['synced']} 条\")\n",
        "        print(f\"  总计: {stats['total']} 条\")\n",
        "        print(f\"\\n📊 访问 LangSmith 查看 Dataset:\")\n",
        "        print(f\"   https://smith.langchain.com/datasets\")\n",
        "    else:\n",
        "        print(f\"\\n💡 提示:\")\n",
        "        print(f\"  没有新数据需要同步\")\n",
        "        print(f\"  请先运行上面的捕获演示 (Cell 32)\")\n",
        "        \n",
        "except Exception as e:\n",
        "    print(f\"❌ 同步失败: {e}\")\n",
        "    print(f\"\\n💡 可能的原因:\")\n",
        "    print(f\"  1. 还没有运行数据捕获 (Cell 32)\")\n",
        "    print(f\"  2. LangSmith API Key 未配置\")\n",
        "    print(f\"  3. 网络连接问题\")\n"
      ]
    },
    {
      "cell_type": "markdown",
      "metadata": {},
      "source": [
        "---\n",
        "\n",
        "## 📊 8. 使用 Evaluator 评估提示词\n",
        "\n",
        "### 8.1 什么是 Evaluator？\n",
        "\n",
        "Evaluator（评估器）用于**自动评估**提示词生成内容的质量，包括：\n",
        "- 结构完整性\n",
        "- 内容相关性\n",
        "- 参数使用情况\n",
        "- 整体质量分数\n"
      ]
    },
    {
      "cell_type": "markdown",
      "metadata": {},
      "source": [
        "### 8.2 查看可用的评估器\n"
      ]
    },
    {
      "cell_type": "code",
      "execution_count": 1,
      "metadata": {},
      "outputs": [
        {
          "name": "stdout",
          "output_type": "stream",
          "text": [
            "可用的报告评估器:\n",
            "\n",
            "1. structure_evaluator - 检查报告结构\n",
            "2. content_completeness_evaluator - 检查内容完整性\n",
            "3. relevance_evaluator - 检查相关性\n",
            "4. parameter_usage_evaluator - 检查参数使用\n"
          ]
        }
      ],
      "source": [
        "from evaluation.evaluators.report import ReportEvaluators\n",
        "\n",
        "# 查看所有可用的评估器\n",
        "print(\"可用的报告评估器:\\n\")\n",
        "print(\"1. structure_evaluator - 检查报告结构\")\n",
        "print(\"2. content_completeness_evaluator - 检查内容完整性\")\n",
        "print(\"3. relevance_evaluator - 检查相关性\")\n",
        "print(\"4. parameter_usage_evaluator - 检查参数使用\")\n"
      ]
    },
    {
      "cell_type": "markdown",
      "metadata": {},
      "source": [
        "### 8.3 运行评估\n"
      ]
    },
    {
      "cell_type": "code",
      "execution_count": 6,
      "metadata": {},
      "outputs": [
        {
          "name": "stdout",
          "output_type": "stream",
          "text": [
            "🔍 开始评估 parameter_parser 提示词...\n",
            "\n",
            "[EVAL] 评估提示词: parameter_parser\n",
            "  使用自定义评估器: 2 个\n",
            "\n",
            "============================================================\n",
            "LangSmith Evaluator - 提示词质量评估\n",
            "============================================================\n",
            "\n",
            "✓ 数据集 'parameter_parser' 已存在\n",
            "提示词: parameter_parser\n",
            "数据集: parameter_parser\n",
            "实验名称: parameter_parser_evaluation\n",
            "评估器数量: 2\n",
            "\n",
            "开始评估...\n",
            "\n",
            "[*] 检查远程更新: parameter_parser...\n",
            "[OK] 已从 Hub 同步最新版本\n",
            "View the evaluation results for experiment: 'parameter_parser_evaluation-b2d6e9ad' at:\n",
            "https://smith.langchain.com/o/0e9cda67-5514-5e66-826a-519be74d85b9/datasets/f41ee129-87a6-4c44-90c8-f4ed1f7fee5d/compare?selectedSessions=8654d10b-bdc4-4df9-90f8-daef2f24ba53\n",
            "\n",
            "\n"
          ]
        },
        {
          "data": {
            "application/vnd.jupyter.widget-view+json": {
              "model_id": "c1c6385a0bdf4bdb89f490d168163cbc",
              "version_major": 2,
              "version_minor": 0
            },
            "text/plain": [
              "0it [00:00, ?it/s]"
            ]
          },
          "metadata": {},
          "output_type": "display_data"
        },
        {
          "name": "stdout",
          "output_type": "stream",
          "text": [
            "\n",
            "============================================================\n",
            "评估完成！\n",
            "============================================================\n",
            "\n",
            "评估结果汇总:\n",
            "------------------------------------------------------------\n",
            "  structure_valid: 85.00%\n",
            "  content_complete: 90.00%\n",
            "  relevance: 88.00%\n",
            "  parameter_usage: 92.00%\n",
            "------------------------------------------------------------\n",
            "  总分: 88.75%\n",
            "  测试数: 5\n",
            "\n",
            "查看详细结果: https://smith.langchain.com/\n",
            "  [OK] 评估完成\n",
            "     - 测试用例: 5\n",
            "     - 质量分数: 88.75%\n",
            "\n",
            "📊 评估结果:\n",
            "  测试用例数: 5\n",
            "  质量分数: 88.75%\n",
            "\n",
            "详细分数:\n",
            "  - structure_valid: 85.00%\n",
            "  - content_complete: 90.00%\n",
            "  - relevance: 88.00%\n",
            "  - parameter_usage: 92.00%\n"
          ]
        }
      ],
      "source": [
        "# 使用 PromptManager 的 evaluate_prompt 方法\n",
        "prompt_manager = PromptManager()\n",
        "\n",
        "# 评估 parameter_parser 提示词\n",
        "print(\"🔍 开始评估 parameter_parser 提示词...\\n\")\n",
        "\n",
        "result = prompt_manager.evaluate_prompt(\n",
        "    prompt_name=\"parameter_parser\",\n",
        "    evaluators=[\n",
        "        ReportEvaluators.structure_evaluator,\n",
        "        ReportEvaluators.content_completeness_evaluator\n",
        "    ]\n",
        ")\n",
        "\n",
        "print(f\"\\n📊 评估结果:\")\n",
        "print(f\"  测试用例数: {result['total']}\")\n",
        "print(f\"  质量分数: {result['quality_score']:.2%}\")\n",
        "print(f\"\\n详细分数:\")\n",
        "for eval_name, score in result.get('scores', {}).items():\n",
        "    print(f\"  - {eval_name}: {score:.2%}\")\n"
      ]
    },
    {
      "cell_type": "markdown",
      "metadata": {},
      "source": [
        "---\n",
        "\n",
        "## 🔄 9. 完整闭环：更新提示词 → 评估 → 推送\n",
        "\n",
        "### 9.1 流程概览\n",
        "\n",
        "```\n",
        "1. 修改本地提示词 YAML 文件\n",
        "2. 使用 PromptManager 评估新提示词\n",
        "3. 如果质量达标，推送到 LangSmith Hub\n",
        "4. 查看 LangSmith 上的评估结果\n",
        "```\n"
      ]
    },
    {
      "cell_type": "markdown",
      "metadata": {},
      "source": [
        "### 9.2 步骤 1: 修改提示词（示例）\n",
        "\n",
        "假设我们要优化 `parameter_parser` 提示词，在 `prompts/parameter_parser.yaml` 中修改后...\n"
      ]
    },
    {
      "cell_type": "markdown",
      "metadata": {},
      "source": [
        "### 9.3 步骤 2: 评估修改后的提示词\n"
      ]
    },
    {
      "cell_type": "code",
      "execution_count": 7,
      "metadata": {},
      "outputs": [
        {
          "name": "stdout",
          "output_type": "stream",
          "text": [
            "🔍 评估本地修改的提示词...\n",
            "\n",
            "[EVAL] 评估提示词: parameter_parser\n",
            "  使用配置的评估器: ['structure_evaluator', 'parameter_extraction_evaluator']\n",
            "\n",
            "============================================================\n",
            "LangSmith Evaluator - 提示词质量评估\n",
            "============================================================\n",
            "\n",
            "✓ 数据集 'parameter_parser' 已存在\n",
            "提示词: parameter_parser\n",
            "数据集: parameter_parser\n",
            "实验名称: parameter_parser_evaluation\n",
            "评估器数量: 2\n",
            "\n",
            "开始评估...\n",
            "\n",
            "[*] 检查远程更新: parameter_parser...\n",
            "[OK] 已从 Hub 同步最新版本\n",
            "View the evaluation results for experiment: 'parameter_parser_evaluation-1f893abe' at:\n",
            "https://smith.langchain.com/o/0e9cda67-5514-5e66-826a-519be74d85b9/datasets/f41ee129-87a6-4c44-90c8-f4ed1f7fee5d/compare?selectedSessions=8279013d-f1ec-4fd0-b5b1-21c7552f6200\n",
            "\n",
            "\n"
          ]
        },
        {
          "data": {
            "application/vnd.jupyter.widget-view+json": {
              "model_id": "f9b7869855194bf6adf3c065a0dd63b2",
              "version_major": 2,
              "version_minor": 0
            },
            "text/plain": [
              "0it [00:00, ?it/s]"
            ]
          },
          "metadata": {},
          "output_type": "display_data"
        },
        {
          "name": "stdout",
          "output_type": "stream",
          "text": [
            "\n",
            "============================================================\n",
            "评估完成！\n",
            "============================================================\n",
            "\n",
            "评估结果汇总:\n",
            "------------------------------------------------------------\n",
            "  structure_valid: 85.00%\n",
            "  content_complete: 90.00%\n",
            "  relevance: 88.00%\n",
            "  parameter_usage: 92.00%\n",
            "------------------------------------------------------------\n",
            "  总分: 88.75%\n",
            "  测试数: 5\n",
            "\n",
            "查看详细结果: https://smith.langchain.com/\n",
            "  [OK] 评估完成\n",
            "     - 测试用例: 5\n",
            "     - 质量分数: 88.75%\n",
            "\n",
            "📊 评估结果:\n",
            "  质量分数: 88.75%\n",
            "  ✅ 质量达标（≥ 80%），可以推送\n"
          ]
        }
      ],
      "source": [
        "# 重新加载并评估（假设你已经修改了 YAML 文件）\n",
        "prompt_manager = PromptManager(auto_pull=False)  # 不自动拉取，使用本地版本\n",
        "\n",
        "# 评估本地修改的提示词\n",
        "print(\"🔍 评估本地修改的提示词...\\n\")\n",
        "\n",
        "eval_result = prompt_manager.evaluate_prompt(\"parameter_parser\")\n",
        "\n",
        "print(f\"\\n📊 评估结果:\")\n",
        "print(f\"  质量分数: {eval_result['quality_score']:.2%}\")\n",
        "\n",
        "# 判断是否达标\n",
        "MIN_SCORE = 0.80\n",
        "if eval_result['quality_score'] >= MIN_SCORE:\n",
        "    print(f\"  ✅ 质量达标（≥ {MIN_SCORE:.0%}），可以推送\")\n",
        "else:\n",
        "    print(f\"  ❌ 质量不达标（< {MIN_SCORE:.0%}），需要继续优化\")\n"
      ]
    },
    {
      "cell_type": "markdown",
      "metadata": {},
      "source": [
        "### 9.4 步骤 3: 推送到 LangSmith Hub（如果达标）\n"
      ]
    },
    {
      "cell_type": "code",
      "execution_count": null,
      "metadata": {},
      "outputs": [],
      "source": [
        "# 推送到 Hub（包含自动评估和版本备份）\n",
        "# 注意：只有在质量达标时才执行\n",
        "\n",
        "if eval_result['quality_score'] >= MIN_SCORE:\n",
        "    print(\"🚀 开始推送到 LangSmith Hub...\\n\")\n",
        "    \n",
        "    success = prompt_manager.push(\n",
        "        prompt_name=\"parameter_parser\",\n",
        "        with_test=True,        # 推送前再次测试\n",
        "        create_backup=True     # 创建版本备份\n",
        "    )\n",
        "    \n",
        "    if success:\n",
        "        print(\"\\n✓ 推送成功！\")\n",
        "        print(\"📊 访问 LangSmith Hub 查看:\")\n",
        "        print(\"   https://smith.langchain.com/hub\")\n",
        "else:\n",
        "    print(\"⚠️ 质量未达标，跳过推送\")\n"
      ]
    },
    {
      "cell_type": "markdown",
      "metadata": {},
      "source": [
        "---\n",
        "\n",
        "## 🎓 10. 总结与最佳实践\n",
        "\n",
        "### 完整工作流\n",
        "\n",
        "```mermaid\n",
        "graph LR\n",
        "    A[修改提示词] --> B[本地测试]\n",
        "    B --> C[自动捕获数据]\n",
        "    C --> D[运行评估器]\n",
        "    D --> E{质量达标?}\n",
        "    E -->|是| F[推送到Hub]\n",
        "    E -->|否| A\n",
        "    F --> G[团队使用新版本]\n",
        "```\n",
        "\n",
        "### 最佳实践\n",
        "\n",
        "1. **开发阶段**\n",
        "   - 使用 `@capture_dataset` 自动收集真实数据\n",
        "   - 定期同步到 LangSmith Dataset\n",
        "   \n",
        "2. **评估阶段**\n",
        "   - 使用多个评估器全面评估\n",
        "   - 设置合理的质量阈值（如 80%）\n",
        "   \n",
        "3. **发布阶段**\n",
        "   - 评估通过后再推送到 Hub\n",
        "   - 启用版本备份，便于回滚\n",
        "   \n",
        "4. **监控阶段**\n",
        "   - 保持 LangSmith 追踪开启\n",
        "   - 定期查看追踪数据和评估结果\n",
        "\n",
        "### 快速参考\n",
        "\n",
        "```python\n",
        "# 1. 捕获数据\n",
        "@capture_dataset(prompt_name=\"xxx\", dataset_name=\"xxx\")\n",
        "def my_function():\n",
        "    inputs = {...}\n",
        "    capture_inputs(inputs)\n",
        "    ...\n",
        "\n",
        "# 2. 同步数据\n",
        "sync_all_captures()\n",
        "\n",
        "# 3. 评估提示词\n",
        "result = prompt_manager.evaluate_prompt(\"prompt_name\")\n",
        "\n",
        "# 4. 推送到 Hub\n",
        "prompt_manager.push(\"prompt_name\", with_test=True, create_backup=True)\n",
        "```\n"
      ]
    },
    {
      "cell_type": "markdown",
      "metadata": {},
      "source": []
    }
  ],
  "metadata": {
    "kernelspec": {
      "display_name": "langgraph",
      "language": "python",
      "name": "python3"
    },
    "language_info": {
      "codemirror_mode": {
        "name": "ipython",
        "version": 3
      },
      "file_extension": ".py",
      "mimetype": "text/x-python",
      "name": "python",
      "nbconvert_exporter": "python",
      "pygments_lexer": "ipython3",
      "version": "3.11.13"
    }
  },
  "nbformat": 4,
  "nbformat_minor": 2
}
