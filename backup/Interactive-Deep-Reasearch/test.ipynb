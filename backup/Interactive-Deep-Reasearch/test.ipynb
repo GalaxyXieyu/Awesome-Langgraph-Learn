{
 "cells": [
  {
   "cell_type": "code",
   "execution_count": null,
   "id": "9afcf01c",
   "metadata": {},
   "outputs": [
    {
     "name": "stdout",
     "output_type": "stream",
     "text": [
      "('custom', {'message_type': 'step_start', 'content': '开始生成深度研究大纲', 'node': 'outline_generation', 'timestamp': 1759929003.611215, 'duration': 0.0})\n",
      "('custom', {'message_type': 'step_progress', 'content': '正在生成专业大纲...', 'node': 'outline_generation', 'timestamp': 1759929003.821603, 'duration': 0.21, 'progress': 30})\n"
     ]
    },
    {
     "name": "stderr",
     "output_type": "stream",
     "text": [
      "INFO:httpx:HTTP Request: POST https://llm.3qiao.vip:23436/v1/chat/completions \"HTTP/1.1 200 OK\"\n"
     ]
    },
    {
     "name": "stdout",
     "output_type": "stream",
     "text": [
      "('custom', {'message_type': 'step_progress', 'content': \"{'title': '人工智能发展全景'}\", 'node': 'outline_generation', 'timestamp': 1759929005.860415, 'duration': 2.25, 'progress': 40, 'current_outline': '', 'chunk_count': 5})\n",
      "('custom', {'message_type': 'step_progress', 'content': \"{'title': '人工智能发展全景分析', 'executive_summary': '本报告旨在'}\", 'node': 'outline_generation', 'timestamp': 1759929006.571977, 'duration': 2.96, 'progress': 50, 'current_outline': '', 'chunk_count': 10})\n",
      "('custom', {'message_type': 'step_progress', 'content': \"{'title': '人工智能发展全景分析', 'executive_summary': '本报告旨在全面分析人工智能（AI'}\", 'node': 'outline_generation', 'timestamp': 1759929006.871381, 'duration': 3.26, 'progress': 60, 'current_outline': '', 'chunk_count': 15})\n",
      "('custom', {'message_type': 'step_progress', 'content': \"{'title': '人工智能发展全景分析', 'executive_summary': '本报告旨在全面分析人工智能（AI）的发展现状、技术'}\", 'node': 'outline_generation', 'timestamp': 1759929007.167404, 'duration': 3.56, 'progress': 70, 'current_outline': '', 'chunk_count': 20})\n",
      "('custom', {'message_type': 'step_progress', 'content': \"{'title': '人工智能发展全景分析', 'executive_summary': '本报告旨在全面分析人工智能（AI）的发展现状、技术趋势、行业应用及'}\", 'node': 'outline_generation', 'timestamp': 1759929007.462649, 'duration': 3.85, 'progress': 80, 'current_outline': '', 'chunk_count': 25})\n",
      "('custom', {'message_type': 'step_progress', 'content': \"{'title': '人工智能发展全景分析', 'executive_summary': '本报告旨在全面分析人工智能（AI）的发展现状、技术趋势、行业应用及未来前景，为专业人士'}\", 'node': 'outline_generation', 'timestamp': 1759929007.7500749, 'duration': 4.14, 'progress': 90, 'current_outline': '', 'chunk_count': 30})\n",
      "('custom', {'message_type': 'step_progress', 'content': \"{'title': '人工智能发展全景分析', 'executive_summary': '本报告旨在全面分析人工智能（AI）的发展现状、技术趋势、行业应用及未来前景，为专业人士提供深入的见解和'}\", 'node': 'outline_generation', 'timestamp': 1759929008.0485802, 'duration': 4.44, 'progress': 90, 'current_outline': '', 'chunk_count': 35})\n",
      "('custom', {'message_type': 'step_progress', 'content': \"{'title': '人工智能发展全景分析', 'executive_summary': '本报告旨在全面分析人工智能（AI）的发展现状、技术趋势、行业应用及未来前景，为专业人士提供深入的见解和实用建议。', 'sections': [{}]}\", 'node': 'outline_generation', 'timestamp': 1759929008.648343, 'duration': 5.04, 'progress': 90, 'current_outline': '', 'chunk_count': 40})\n"
     ]
    }
   ],
   "source": [
    "from graph import create_deep_research_graph\n",
    "from state import create_simple_state\n",
    "from langgraph.checkpoint.memory import InMemorySaver\n",
    "import time\n",
    "# 只需要提供主题！\n",
    "initial_state = create_simple_state(\"人工智能发展全景分析\")\n",
    "\n",
    "workflow = create_deep_research_graph()\n",
    "app = workflow.compile(checkpointer=InMemorySaver())\n",
    "config = {\"configurable\": {\"thread_id\": f\"research_{int(time.time())}\"}}\n",
    "\n",
    "async for chunk in app.astream(initial_state, config=config, stream_mode=[\"custom\"]):\n",
    "    print(chunk)"
   ]
  }
 ],
 "metadata": {
  "kernelspec": {
   "display_name": "langgraph311",
   "language": "python",
   "name": "python3"
  },
  "language_info": {
   "codemirror_mode": {
    "name": "ipython",
    "version": 3
   },
   "file_extension": ".py",
   "mimetype": "text/x-python",
   "name": "python",
   "nbconvert_exporter": "python",
   "pygments_lexer": "ipython3",
   "version": "3.11.13"
  }
 },
 "nbformat": 4,
 "nbformat_minor": 5
}
