{
 "cells": [
  {
   "cell_type": "code",
   "execution_count": 3,
   "id": "e9720a38",
   "metadata": {},
   "outputs": [
    {
     "name": "stdout",
     "output_type": "stream",
     "text": [
      "('updates', {'intelligent_supervisor': {'messages': [HumanMessage(content=\"开始研究: ('人工智能发展全景分析',)\", additional_kwargs={}, response_metadata={}, id='d2f1ed3a-3347-4329-a843-5216fa41dae3')], 'user_input': \"研究主题: ('人工智能发展全景分析',)\", 'topic': ('人工智能发展全景分析',), 'mode': 'interative', 'sections': [{'id': 'section_1', 'title': '人工智能技术发展现状', 'description': '深入分析当前人工智能技术的发展水平、主要应用领域和技术突破'}, {'id': 'section_2', 'title': 'AI市场竞争格局', 'description': '研究全球AI市场的竞争态势、主要玩家和市场份额分布'}, {'id': 'section_3', 'title': '未来发展趋势预测', 'description': '基于当前技术发展和市场动态，预测AI技术的未来发展方向'}], 'current_section_index': 0, 'research_results': {}, 'writing_results': {}, 'polishing_results': {}, 'final_report': {}, 'execution_path': ['intelligent_supervisor'], 'iteration_count': 1, 'max_iterations': 10, 'next_action': 'research', 'task_completed': False, 'error_log': []}})\n",
      "('updates', {'__interrupt__': (Interrupt(value={'action_request': {'action': 'web_search_async', 'args': {'query': '当前人工智能技术发展水平 主要应用领域 技术突破'}}, 'config': {'allow_accept': True, 'allow_edit': True, 'allow_respond': True}, 'description': \"准备调用 web_search_async 工具：\\n- 参数为: {'query': '当前人工智能技术发展水平 主要应用领域 技术突破'}\\n\\n是否允许继续？\\n输入 'yes' 接受工具调用\\n输入 'no' 拒绝工具调用\\n输入 'edit' 修改工具参数后调用工具\\n输入 'response' 不调用工具直接反馈信息\"}, id='6043b1e6473ad72eee37f6d92ec3aff9'),)})\n"
     ]
    }
   ],
   "source": [
    "from configparser import SectionProxy\n",
    "\n",
    "from langchain_core.callbacks import streaming_stdout\n",
    "from langgraph.checkpoint.memory import InMemorySaver\n",
    "from langchain_core.messages import HumanMessage\n",
    "import time\n",
    "from graph import create_intelligent_research_graph\n",
    "\n",
    "workflow = create_intelligent_research_graph()\n",
    "checkpointer = InMemorySaver()\n",
    "app = workflow.compile(checkpointer=checkpointer)\n",
    "\n",
    "\n",
    "topic=\"人工智能发展全景分析\",\n",
    "workflow = create_intelligent_research_graph()\n",
    "checkpointer = InMemorySaver()\n",
    "app = workflow.compile(checkpointer=checkpointer)\n",
    "\n",
    "sections = [\n",
    "    {\n",
    "        \"id\": \"section_1\",\n",
    "        \"title\": \"人工智能技术发展现状\",\n",
    "        \"description\": \"深入分析当前人工智能技术的发展水平、主要应用领域和技术突破\"\n",
    "    },\n",
    "    {\n",
    "        \"id\": \"section_2\",\n",
    "        \"title\": \"AI市场竞争格局\",\n",
    "        \"description\": \"研究全球AI市场的竞争态势、主要玩家和市场份额分布\"\n",
    "    },\n",
    "    {\n",
    "        \"id\": \"section_3\",\n",
    "        \"title\": \"未来发展趋势预测\",\n",
    "        \"description\": \"基于当前技术发展和市场动态，预测AI技术的未来发展方向\"\n",
    "    }\n",
    "]\n",
    "# 初始化状态\n",
    "initial_state = {\n",
    "    \"messages\": [HumanMessage(content=f\"开始研究: {topic}\")],\n",
    "    \"user_input\": f\"研究主题: {topic}\",\n",
    "    \"topic\": topic,\n",
    "    \"sections\": sections,\n",
    "    \"current_section_index\": 0,\n",
    "    \"research_results\": {},\n",
    "    \"writing_results\": {},\n",
    "    \"polishing_results\": {},\n",
    "    \"final_report\": {},\n",
    "    \"execution_path\": [],\n",
    "    \"iteration_count\": 0,\n",
    "    \"max_iterations\": 10,\n",
    "    \"next_action\": \"\",\n",
    "    \"task_completed\": False,\n",
    "    \"error_log\": [],\n",
    "    \"mode\":\"interative\"\n",
    "}\n",
    "\n",
    "# 配置\n",
    "config = {\"configurable\": {\"thread_id\": f\"research_{int(time.time())}\"}}\n",
    "\n",
    "# 执行\n",
    "start_time = time.time()\n",
    "# result = await app.astream(initial_state, config=config)\n",
    "\n",
    "async for chunk in app.astream(initial_state, config=config,stream_mode = [\"updates\"]):\n",
    "    print(chunk)"
   ]
  }
 ],
 "metadata": {
  "kernelspec": {
   "display_name": "langgraph",
   "language": "python",
   "name": "python3"
  },
  "language_info": {
   "codemirror_mode": {
    "name": "ipython",
    "version": 3
   },
   "file_extension": ".py",
   "mimetype": "text/x-python",
   "name": "python",
   "nbconvert_exporter": "python",
   "pygments_lexer": "ipython3",
   "version": "3.11.13"
  }
 },
 "nbformat": 4,
 "nbformat_minor": 5
}
