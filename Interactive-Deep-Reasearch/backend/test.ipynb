{
 "cells": [
  {
   "cell_type": "code",
   "execution_count": null,
   "id": "7ae9800d",
   "metadata": {},
   "outputs": [
    {
     "name": "stderr",
     "output_type": "stream",
     "text": [
      "INFO:httpx:HTTP Request: POST https://llm.3qiao.vip:23436/v1/chat/completions \"HTTP/1.1 200 OK\"\n"
     ]
    },
    {
     "name": "stdout",
     "output_type": "stream",
     "text": [
      "初始化后的 state：\n",
      "{'topic': '人工智能在医疗领域的应用', 'mode': <ReportMode.COPILOT: 'copilot'>, 'user_id': 'user_001', 'session_id': 'deep_research_1757809469_user_001', 'report_type': 'research', 'target_audience': '医疗行业从业者', 'depth_level': 'deep', 'max_sections': 5, 'target_length': 5000, 'language': 'zh', 'style': '正式', 'outline': None, 'research_results': [], 'analysis_insights': [], 'final_report': None, 'node_outputs': {}, 'current_step': 'initialized', 'execution_plan': None, 'execution_path': [], 'agent_results': {}, 'task_status': {}, 'pending_interactions': [], 'user_feedback': {}, 'approval_status': {}, 'interaction_history': [], 'confirmations': {}, 'error_log': [], 'performance_metrics': {'start_time': 1757809469.7520971, 'end_time': None, 'total_duration': None, 'agent_execution_times': {}, 'interaction_count': 0, 'research_queries_count': 0, 'total_words_generated': 0, 'quality_score': None}, 'metadata': {'created_at': 1757809469.752099, 'version': '1.0.0', 'system': 'Interactive-Deep-Research'}, 'messages': [HumanMessage(content=\"开始生成关于'人工智能在医疗领域的应用'的research深度研究报告\", additional_kwargs={}, response_metadata={})]}\n",
      "('custom', {'message_type': 'processing', 'content': '开始生成深度研究大纲', 'node': 'outline_generation', 'timestamp': 1757809469.762902, 'duration': 0.0, 'progress': 50})\n",
      "('custom', {'message_type': 'processing', 'content': '正在生成专业大纲...', 'node': 'outline_generation', 'timestamp': 1757809469.7645109, 'duration': 0.0, 'progress': 50})\n",
      "('custom', {'message_type': 'content', 'content': \"{'title': '人工智能在医疗'}\", 'node': 'outline_generation', 'timestamp': 1757809470.6174111, 'duration': 0.85, 'current_outline': '', 'chunk_count': 5})\n",
      "('custom', {'message_type': 'content', 'content': \"{'title': '人工智能在医疗领域的应用', 'executive_summary': '本报告'}\", 'node': 'outline_generation', 'timestamp': 1757809471.239241, 'duration': 1.47, 'current_outline': '', 'chunk_count': 10})\n",
      "('custom', {'message_type': 'content', 'content': \"{'title': '人工智能在医疗领域的应用', 'executive_summary': '本报告旨在深入探讨人工智能（'}\", 'node': 'outline_generation', 'timestamp': 1757809471.522892, 'duration': 1.76, 'current_outline': '', 'chunk_count': 15})\n",
      "('custom', {'message_type': 'content', 'content': \"{'title': '人工智能在医疗领域的应用', 'executive_summary': '本报告旨在深入探讨人工智能（AI）在医疗领域的'}\", 'node': 'outline_generation', 'timestamp': 1757809471.803425, 'duration': 2.04, 'current_outline': '', 'chunk_count': 20})\n"
     ]
    }
   ],
   "source": [
    "from graph import create_deep_research_graph\n",
    "from langgraph.checkpoint.memory import InMemorySaver\n",
    "from state import create_initial_state, ReportMode\n",
    "import time\n",
    "# 初始化一个示例 state\n",
    "state = create_initial_state(\n",
    "    topic=\"人工智能在医疗领域的应用\",\n",
    "    mode=ReportMode.COPILOT,\n",
    "    user_id=\"user_001\",\n",
    "    report_type=\"research\",\n",
    "    target_audience=\"医疗行业从业者\",\n",
    "    depth_level=\"deep\",\n",
    "    max_sections=5,\n",
    "    target_length=5000,\n",
    "    language=\"zh\",\n",
    "    style=\"正式\"\n",
    ")\n",
    "\n",
    "print(\"初始化后的 state：\")\n",
    "print(state)\n",
    "workflow = create_deep_research_graph()\n",
    "\n",
    "app = workflow.compile(checkpointer=InMemorySaver())\n",
    "config = {\"configurable\": {\"thread_id\": f\"research_{int(time.time())}\"}}\n",
    "async for chunk in app.astream(state, config=config, stream_mode=[\"custom\"]):\n",
    "    print(chunk)\n"
   ]
  }
 ],
 "metadata": {
  "kernelspec": {
   "display_name": "langgraph311",
   "language": "python",
   "name": "python3"
  },
  "language_info": {
   "codemirror_mode": {
    "name": "ipython",
    "version": 3
   },
   "file_extension": ".py",
   "mimetype": "text/x-python",
   "name": "python",
   "nbconvert_exporter": "python",
   "pygments_lexer": "ipython3",
   "version": "3.11.13"
  }
 },
 "nbformat": 4,
 "nbformat_minor": 5
}
