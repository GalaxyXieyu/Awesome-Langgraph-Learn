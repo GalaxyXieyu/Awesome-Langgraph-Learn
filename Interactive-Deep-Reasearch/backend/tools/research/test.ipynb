{
 "cells": [
  {
   "cell_type": "code",
   "execution_count": 6,
   "id": "ebb16106",
   "metadata": {},
   "outputs": [
    {
     "name": "stderr",
     "output_type": "stream",
     "text": [
      "大纲生成失败: 'NoneType' object has no attribute 'items'\n"
     ]
    }
   ],
   "source": [
    "from tools import generate_outline\n",
    "\n",
    "# 正确的调用方式\n",
    "# 或者同步调用\n",
    "data = generate_outline.invoke({\n",
    "    \"topic\": \"AI\", \n",
    "    \"report_type\": \"深度研究报告\", \n",
    "    \"target_audience\": \"专业人士\",\n",
    "    \"depth_level\": \"深度\",\n",
    "    \"target_length\": 5000\n",
    "})\n",
    "\n",
    "\n"
   ]
  },
  {
   "cell_type": "code",
   "execution_count": null,
   "id": "6f71c17d",
   "metadata": {},
   "outputs": [],
   "source": []
  }
 ],
 "metadata": {
  "kernelspec": {
   "display_name": "langgraph",
   "language": "python",
   "name": "python3"
  },
  "language_info": {
   "codemirror_mode": {
    "name": "ipython",
    "version": 3
   },
   "file_extension": ".py",
   "mimetype": "text/x-python",
   "name": "python",
   "nbconvert_exporter": "python",
   "pygments_lexer": "ipython3",
   "version": "3.11.13"
  }
 },
 "nbformat": 4,
 "nbformat_minor": 5
}
