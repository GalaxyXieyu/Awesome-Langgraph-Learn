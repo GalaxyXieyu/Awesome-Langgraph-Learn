{
 "cells": [
  {
   "cell_type": "code",
   "execution_count": null,
   "id": "ebb16106",
   "metadata": {},
   "outputs": [
    {
     "name": "stderr",
     "output_type": "stream",
     "text": [
      "/Volumes/DATABASE/code/langgraph_learn/Interactive-Deep-Reasearch/backend/tools/research/tools.py:217: LangChainDeprecationWarning: The method `BaseTool.__call__` was deprecated in langchain-core 0.1.47 and will be removed in 1.0. Use :meth:`~invoke` instead.\n",
      "  return trend_analysis(topic)\n"
     ]
    }
   ],
   "source": [
    "from tools import trend_analysis_async\n",
    "\n",
    "# 正确的调用方式\n",
    "# 或者同步调用\n",
    "data = await trend_analysis_async.ainvoke({\n",
    "    \"topic\": \"AI\"\n",
    "})"
   ]
  },
  {
   "cell_type": "code",
   "execution_count": 2,
   "id": "6f71c17d",
   "metadata": {},
   "outputs": [
    {
     "data": {
      "text/plain": [
       "{'id': 'f30e0273-e9ca-40d5-8b39-d854fe500595',\n",
       " 'topic': 'AI',\n",
       " 'trend': 'AI发展趋势：技术成熟度快速提升，市场接受度逐步增长，政策支持力度加大，投资热度持续高涨',\n",
       " 'timestamp': 1756978752.095551}"
      ]
     },
     "execution_count": 2,
     "metadata": {},
     "output_type": "execute_result"
    }
   ],
   "source": [
    "data"
   ]
  },
  {
   "cell_type": "code",
   "execution_count": null,
   "id": "5727a6e9",
   "metadata": {},
   "outputs": [],
   "source": []
  }
 ],
 "metadata": {
  "kernelspec": {
   "display_name": "langgraph",
   "language": "python",
   "name": "python3"
  },
  "language_info": {
   "codemirror_mode": {
    "name": "ipython",
    "version": 3
   },
   "file_extension": ".py",
   "mimetype": "text/x-python",
   "name": "python",
   "nbconvert_exporter": "python",
   "pygments_lexer": "ipython3",
   "version": "3.11.13"
  }
 },
 "nbformat": 4,
 "nbformat_minor": 5
}
