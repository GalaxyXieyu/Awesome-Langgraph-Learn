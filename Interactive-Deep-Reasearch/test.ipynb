{
 "cells": [
  {
   "cell_type": "code",
   "execution_count": 1,
   "id": "9afcf01c",
   "metadata": {},
   "outputs": [],
   "source": [
    "from graph import create_deep_research_graph\n",
    "from state import create_simple_state\n",
    "from langgraph.checkpoint.memory import InMemorySaver\n",
    "import time\n",
    "# 只需要提供主题！\n",
    "initial_state = create_simple_state(\"人工智能发展全景分析\")\n",
    "\n",
    "workflow = create_deep_research_graph()\n",
    "app = workflow.compile(checkpointer=InMemorySaver())\n",
    "config = {\"configurable\": {\"thread_id\": f\"research_{int(time.time())}\"}}\n",
    "\n",
    "async for chunk in app.astream(initial_state, config=config, stream_mode=[\"custom\"]):\n",
    "    print(chunk)"
   ]
  },
  {
   "cell_type": "code",
   "execution_count": null,
   "id": "c23a6bda",
   "metadata": {},
   "outputs": [
    {
     "name": "stderr",
     "output_type": "stream",
     "text": [
      "/var/folders/2h/djb52_4s75d4dlwbjy__nvvw0000gn/T/ipykernel_46404/947921140.py:1: LangChainDeprecationWarning: As of langchain-core 0.3.0, LangChain uses pydantic v2 internally. The langchain_core.pydantic_v1 module was a compatibility shim for pydantic v1, and should no longer be used. Please update the code to import from Pydantic directly.\n",
      "\n",
      "For example, replace imports like: `from langchain_core.pydantic_v1 import BaseModel`\n",
      "with: `from pydantic import BaseModel`\n",
      "or the v1 compatibility namespace if you are working in a code base that has not been fully upgraded to pydantic 2 yet. \tfrom pydantic.v1 import BaseModel\n",
      "\n",
      "  from tools import get_research_tools, get_analysis_tools, get_writing_tools, get_validation_tools\n"
     ]
    },
    {
     "ename": "AttributeError",
     "evalue": "'function' object has no attribute 'invoke'",
     "output_type": "error",
     "traceback": [
      "\u001b[31m---------------------------------------------------------------------------\u001b[39m",
      "\u001b[31mAttributeError\u001b[39m                            Traceback (most recent call last)",
      "\u001b[36mCell\u001b[39m\u001b[36m \u001b[39m\u001b[32mIn[1]\u001b[39m\u001b[32m, line 3\u001b[39m\n\u001b[32m      1\u001b[39m \u001b[38;5;28;01mfrom\u001b[39;00m\u001b[38;5;250m \u001b[39m\u001b[34;01mtools\u001b[39;00m\u001b[38;5;250m \u001b[39m\u001b[38;5;28;01mimport\u001b[39;00m get_research_tools, get_analysis_tools, get_writing_tools, get_validation_tools\n\u001b[32m----> \u001b[39m\u001b[32m3\u001b[39m \u001b[43mget_analysis_tools\u001b[49m\u001b[43m.\u001b[49m\u001b[43minvoke\u001b[49m(\u001b[33m\"\u001b[39m\u001b[33m人工智能发展全景分析\u001b[39m\u001b[33m\"\u001b[39m)\n",
      "\u001b[31mAttributeError\u001b[39m: 'function' object has no attribute 'invoke'"
     ]
    }
   ],
   "source": [
    "from tools import advanced_web_search,get_research_tools, get_analysis_tools, get_writing_tools, get_validation_tools\n",
    "\n",
    "advanced_web_search.invoke(query: str, max_results: int = 5, search_depth: str = \"advanced\")"
   ]
  },
  {
   "cell_type": "code",
   "execution_count": null,
   "id": "1cfcd5e2",
   "metadata": {},
   "outputs": [],
   "source": []
  }
 ],
 "metadata": {
  "kernelspec": {
   "display_name": "langgraph311",
   "language": "python",
   "name": "python3"
  },
  "language_info": {
   "codemirror_mode": {
    "name": "ipython",
    "version": 3
   },
   "file_extension": ".py",
   "mimetype": "text/x-python",
   "name": "python",
   "nbconvert_exporter": "python",
   "pygments_lexer": "ipython3",
   "version": "3.11.13"
  }
 },
 "nbformat": 4,
 "nbformat_minor": 5
}
