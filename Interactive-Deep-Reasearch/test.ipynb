{
 "cells": [
  {
   "cell_type": "code",
   "execution_count": null,
   "id": "9afcf01c",
   "metadata": {},
   "outputs": [
    {
     "name": "stderr",
     "output_type": "stream",
     "text": [
      "/Volumes/DATABASE/code/langgraph_learn/Interactive-Deep-Reasearch/graph.py:22: LangChainDeprecationWarning: As of langchain-core 0.3.0, LangChain uses pydantic v2 internally. The langchain_core.pydantic_v1 module was a compatibility shim for pydantic v1, and should no longer be used. Please update the code to import from Pydantic directly.\n",
      "\n",
      "For example, replace imports like: `from langchain_core.pydantic_v1 import BaseModel`\n",
      "with: `from pydantic import BaseModel`\n",
      "or the v1 compatibility namespace if you are working in a code base that has not been fully upgraded to pydantic 2 yet. \tfrom pydantic.v1 import BaseModel\n",
      "\n",
      "  from state import (\n"
     ]
    },
    {
     "name": "stdout",
     "output_type": "stream",
     "text": [
      "('custom', {'message_type': 'step_start', 'timestamp': 1754747441.8199732, 'node_name': 'outline_generation', 'agent_name': '大纲生成器', 'content': '开始生成深度研究大纲', 'metadata': {'step_duration': 1.1920928955078125e-06}})\n",
      "('custom', {'message_type': 'step_progress', 'timestamp': 1754747441.959975, 'node_name': 'outline_generation', 'agent_name': '大纲生成器', 'content': '正在生成专业大纲...', 'metadata': {'step_duration': 0.14000296592712402, 'progress': 30}})\n"
     ]
    },
    {
     "name": "stderr",
     "output_type": "stream",
     "text": [
      "INFO:httpx:HTTP Request: POST https://llm.3qiao.vip:23436/v1/chat/completions \"HTTP/1.1 200 OK\"\n"
     ]
    },
    {
     "name": "stdout",
     "output_type": "stream",
     "text": [
      "('custom', {'message_type': 'step_progress', 'timestamp': 1754747442.9013891, 'node_name': 'outline_generation', 'agent_name': '大纲生成器', 'content': '正在构建大纲结构...', 'metadata': {'step_duration': 1.0814270973205566, 'progress': 40, 'current_outline': '', 'chunk_count': 5}})\n",
      "('custom', {'message_type': 'step_progress', 'timestamp': 1754747443.633888, 'node_name': 'outline_generation', 'agent_name': '大纲生成器', 'content': '正在构建大纲结构...', 'metadata': {'step_duration': 1.8139169216156006, 'progress': 50, 'current_outline': '', 'chunk_count': 10}})\n",
      "('custom', {'message_type': 'step_progress', 'timestamp': 1754747443.9266582, 'node_name': 'outline_generation', 'agent_name': '大纲生成器', 'content': '正在构建大纲结构...', 'metadata': {'step_duration': 2.106687068939209, 'progress': 60, 'current_outline': '', 'chunk_count': 15}})\n",
      "('custom', {'message_type': 'step_progress', 'timestamp': 1754747444.217304, 'node_name': 'outline_generation', 'agent_name': '大纲生成器', 'content': '正在构建大纲结构...', 'metadata': {'step_duration': 2.3973331451416016, 'progress': 70, 'current_outline': '', 'chunk_count': 20}})\n",
      "('custom', {'message_type': 'step_progress', 'timestamp': 1754747444.514574, 'node_name': 'outline_generation', 'agent_name': '大纲生成器', 'content': '正在构建大纲结构...', 'metadata': {'step_duration': 2.6946029663085938, 'progress': 80, 'current_outline': '', 'chunk_count': 25}})\n",
      "('custom', {'message_type': 'step_progress', 'timestamp': 1754747444.807644, 'node_name': 'outline_generation', 'agent_name': '大纲生成器', 'content': '正在构建大纲结构...', 'metadata': {'step_duration': 2.9876739978790283, 'progress': 90, 'current_outline': '', 'chunk_count': 30}})\n",
      "('custom', {'message_type': 'step_progress', 'timestamp': 1754747445.102396, 'node_name': 'outline_generation', 'agent_name': '大纲生成器', 'content': '正在构建大纲结构...', 'metadata': {'step_duration': 3.282423973083496, 'progress': 90, 'current_outline': '', 'chunk_count': 35}})\n",
      "('custom', {'message_type': 'step_progress', 'timestamp': 1754747445.418306, 'node_name': 'outline_generation', 'agent_name': '大纲生成器', 'content': '正在构建大纲结构...', 'metadata': {'step_duration': 3.5983340740203857, 'progress': 90, 'current_outline': '', 'chunk_count': 40}})\n",
      "('custom', {'message_type': 'step_progress', 'timestamp': 1754747445.713907, 'node_name': 'outline_generation', 'agent_name': '大纲生成器', 'content': '正在构建大纲结构...', 'metadata': {'step_duration': 3.8939359188079834, 'progress': 90, 'current_outline': '', 'chunk_count': 45}})\n",
      "('custom', {'message_type': 'step_progress', 'timestamp': 1754747446.537292, 'node_name': 'outline_generation', 'agent_name': '大纲生成器', 'content': '正在构建大纲结构...', 'metadata': {'step_duration': 4.717320919036865, 'progress': 90, 'current_outline': '', 'chunk_count': 50}})\n",
      "('custom', {'message_type': 'step_progress', 'timestamp': 1754747447.4080482, 'node_name': 'outline_generation', 'agent_name': '大纲生成器', 'content': '正在构建大纲结构...', 'metadata': {'step_duration': 5.588076114654541, 'progress': 90, 'current_outline': '', 'chunk_count': 55}})\n",
      "('custom', {'message_type': 'step_progress', 'timestamp': 1754747447.702637, 'node_name': 'outline_generation', 'agent_name': '大纲生成器', 'content': '正在构建大纲结构...', 'metadata': {'step_duration': 5.882666110992432, 'progress': 90, 'current_outline': '', 'chunk_count': 60}})\n",
      "('custom', {'message_type': 'step_progress', 'timestamp': 1754747447.9911208, 'node_name': 'outline_generation', 'agent_name': '大纲生成器', 'content': '正在构建大纲结构...', 'metadata': {'step_duration': 6.171149969100952, 'progress': 90, 'current_outline': '', 'chunk_count': 65}})\n",
      "('custom', {'message_type': 'step_progress', 'timestamp': 1754747448.635564, 'node_name': 'outline_generation', 'agent_name': '大纲生成器', 'content': '正在构建大纲结构...', 'metadata': {'step_duration': 6.815593004226685, 'progress': 90, 'current_outline': '', 'chunk_count': 70}})\n",
      "('custom', {'message_type': 'step_progress', 'timestamp': 1754747448.938505, 'node_name': 'outline_generation', 'agent_name': '大纲生成器', 'content': '正在构建大纲结构...', 'metadata': {'step_duration': 7.11853289604187, 'progress': 90, 'current_outline': '', 'chunk_count': 75}})\n",
      "('custom', {'message_type': 'step_progress', 'timestamp': 1754747449.3567731, 'node_name': 'outline_generation', 'agent_name': '大纲生成器', 'content': '正在构建大纲结构...', 'metadata': {'step_duration': 7.536801815032959, 'progress': 90, 'current_outline': '', 'chunk_count': 80}})\n",
      "('custom', {'message_type': 'step_progress', 'timestamp': 1754747449.772688, 'node_name': 'outline_generation', 'agent_name': '大纲生成器', 'content': '正在构建大纲结构...', 'metadata': {'step_duration': 7.952716827392578, 'progress': 90, 'current_outline': '', 'chunk_count': 85}})\n",
      "('custom', {'message_type': 'step_progress', 'timestamp': 1754747450.601506, 'node_name': 'outline_generation', 'agent_name': '大纲生成器', 'content': '正在构建大纲结构...', 'metadata': {'step_duration': 8.78153395652771, 'progress': 90, 'current_outline': '', 'chunk_count': 90}})\n",
      "('custom', {'message_type': 'step_progress', 'timestamp': 1754747451.013629, 'node_name': 'outline_generation', 'agent_name': '大纲生成器', 'content': '正在构建大纲结构...', 'metadata': {'step_duration': 9.193656921386719, 'progress': 90, 'current_outline': '', 'chunk_count': 95}})\n",
      "('custom', {'message_type': 'step_progress', 'timestamp': 1754747451.42963, 'node_name': 'outline_generation', 'agent_name': '大纲生成器', 'content': '正在构建大纲结构...', 'metadata': {'step_duration': 9.609658002853394, 'progress': 90, 'current_outline': '', 'chunk_count': 100}})\n",
      "('custom', {'message_type': 'step_progress', 'timestamp': 1754747452.800631, 'node_name': 'outline_generation', 'agent_name': '大纲生成器', 'content': '正在构建大纲结构...', 'metadata': {'step_duration': 10.98065996170044, 'progress': 90, 'current_outline': '', 'chunk_count': 105}})\n",
      "('custom', {'message_type': 'step_progress', 'timestamp': 1754747454.214598, 'node_name': 'outline_generation', 'agent_name': '大纲生成器', 'content': '正在构建大纲结构...', 'metadata': {'step_duration': 12.39462685585022, 'progress': 90, 'current_outline': '', 'chunk_count': 110}})\n",
      "('custom', {'message_type': 'step_progress', 'timestamp': 1754747454.806293, 'node_name': 'outline_generation', 'agent_name': '大纲生成器', 'content': '正在构建大纲结构...', 'metadata': {'step_duration': 12.986321926116943, 'progress': 90, 'current_outline': '', 'chunk_count': 115}})\n",
      "('custom', {'message_type': 'step_progress', 'timestamp': 1754747455.104471, 'node_name': 'outline_generation', 'agent_name': '大纲生成器', 'content': '正在构建大纲结构...', 'metadata': {'step_duration': 13.284500122070312, 'progress': 90, 'current_outline': '', 'chunk_count': 120}})\n",
      "('custom', {'message_type': 'step_progress', 'timestamp': 1754747455.3974771, 'node_name': 'outline_generation', 'agent_name': '大纲生成器', 'content': '正在构建大纲结构...', 'metadata': {'step_duration': 13.577505826950073, 'progress': 90, 'current_outline': '', 'chunk_count': 125}})\n",
      "('custom', {'message_type': 'step_progress', 'timestamp': 1754747455.6941261, 'node_name': 'outline_generation', 'agent_name': '大纲生成器', 'content': '正在构建大纲结构...', 'metadata': {'step_duration': 13.874154090881348, 'progress': 90, 'current_outline': '', 'chunk_count': 130}})\n",
      "('custom', {'message_type': 'step_progress', 'timestamp': 1754747456.361121, 'node_name': 'outline_generation', 'agent_name': '大纲生成器', 'content': '正在构建大纲结构...', 'metadata': {'step_duration': 14.541150093078613, 'progress': 90, 'current_outline': '', 'chunk_count': 135}})\n",
      "('custom', {'message_type': 'step_progress', 'timestamp': 1754747456.6657631, 'node_name': 'outline_generation', 'agent_name': '大纲生成器', 'content': '正在构建大纲结构...', 'metadata': {'step_duration': 14.845791101455688, 'progress': 90, 'current_outline': '', 'chunk_count': 140}})\n",
      "('custom', {'message_type': 'step_progress', 'timestamp': 1754747457.078878, 'node_name': 'outline_generation', 'agent_name': '大纲生成器', 'content': '正在构建大纲结构...', 'metadata': {'step_duration': 15.25890588760376, 'progress': 90, 'current_outline': '', 'chunk_count': 145}})\n",
      "('custom', {'message_type': 'step_progress', 'timestamp': 1754747457.49709, 'node_name': 'outline_generation', 'agent_name': '大纲生成器', 'content': '正在构建大纲结构...', 'metadata': {'step_duration': 15.677118062973022, 'progress': 90, 'current_outline': '', 'chunk_count': 150}})\n",
      "('custom', {'message_type': 'step_progress', 'timestamp': 1754747457.78592, 'node_name': 'outline_generation', 'agent_name': '大纲生成器', 'content': '正在构建大纲结构...', 'metadata': {'step_duration': 15.96594786643982, 'progress': 90, 'current_outline': '', 'chunk_count': 155}})\n",
      "('custom', {'message_type': 'step_progress', 'timestamp': 1754747458.189512, 'node_name': 'outline_generation', 'agent_name': '大纲生成器', 'content': '正在构建大纲结构...', 'metadata': {'step_duration': 16.36954092979431, 'progress': 90, 'current_outline': '', 'chunk_count': 160}})\n",
      "('custom', {'message_type': 'step_progress', 'timestamp': 1754747458.943004, 'node_name': 'outline_generation', 'agent_name': '大纲生成器', 'content': '正在构建大纲结构...', 'metadata': {'step_duration': 17.123031854629517, 'progress': 90, 'current_outline': '', 'chunk_count': 165}})\n",
      "('custom', {'message_type': 'step_progress', 'timestamp': 1754747459.29407, 'node_name': 'outline_generation', 'agent_name': '大纲生成器', 'content': '正在构建大纲结构...', 'metadata': {'step_duration': 17.474097967147827, 'progress': 90, 'current_outline': '', 'chunk_count': 170}})\n",
      "('custom', {'message_type': 'step_progress', 'timestamp': 1754747459.708549, 'node_name': 'outline_generation', 'agent_name': '大纲生成器', 'content': '正在构建大纲结构...', 'metadata': {'step_duration': 17.888576984405518, 'progress': 90, 'current_outline': '', 'chunk_count': 175}})\n",
      "('custom', {'message_type': 'step_progress', 'timestamp': 1754747460.139503, 'node_name': 'outline_generation', 'agent_name': '大纲生成器', 'content': '正在构建大纲结构...', 'metadata': {'step_duration': 18.319530963897705, 'progress': 90, 'current_outline': '', 'chunk_count': 180}})\n",
      "('custom', {'message_type': 'step_progress', 'timestamp': 1754747460.566217, 'node_name': 'outline_generation', 'agent_name': '大纲生成器', 'content': '正在构建大纲结构...', 'metadata': {'step_duration': 18.74624490737915, 'progress': 90, 'current_outline': '', 'chunk_count': 185}})\n",
      "('custom', {'message_type': 'step_progress', 'timestamp': 1754747461.322175, 'node_name': 'outline_generation', 'agent_name': '大纲生成器', 'content': '正在构建大纲结构...', 'metadata': {'step_duration': 19.502203941345215, 'progress': 90, 'current_outline': '', 'chunk_count': 190}})\n",
      "('custom', {'message_type': 'step_progress', 'timestamp': 1754747462.745677, 'node_name': 'outline_generation', 'agent_name': '大纲生成器', 'content': '正在构建大纲结构...', 'metadata': {'step_duration': 20.925704956054688, 'progress': 90, 'current_outline': '', 'chunk_count': 195}})\n",
      "('custom', {'message_type': 'step_progress', 'timestamp': 1754747463.557857, 'node_name': 'outline_generation', 'agent_name': '大纲生成器', 'content': '正在构建大纲结构...', 'metadata': {'step_duration': 21.737884998321533, 'progress': 90, 'current_outline': '', 'chunk_count': 200}})\n",
      "('custom', {'message_type': 'step_progress', 'timestamp': 1754747464.153291, 'node_name': 'outline_generation', 'agent_name': '大纲生成器', 'content': '正在构建大纲结构...', 'metadata': {'step_duration': 22.333318948745728, 'progress': 90, 'current_outline': '', 'chunk_count': 205}})\n",
      "('custom', {'message_type': 'step_progress', 'timestamp': 1754747464.46284, 'node_name': 'outline_generation', 'agent_name': '大纲生成器', 'content': '正在构建大纲结构...', 'metadata': {'step_duration': 22.642868041992188, 'progress': 90, 'current_outline': '', 'chunk_count': 210}})\n",
      "('custom', {'message_type': 'step_progress', 'timestamp': 1754747464.751982, 'node_name': 'outline_generation', 'agent_name': '大纲生成器', 'content': '正在构建大纲结构...', 'metadata': {'step_duration': 22.93200993537903, 'progress': 90, 'current_outline': '', 'chunk_count': 215}})\n",
      "('custom', {'message_type': 'step_progress', 'timestamp': 1754747465.34216, 'node_name': 'outline_generation', 'agent_name': '大纲生成器', 'content': '正在构建大纲结构...', 'metadata': {'step_duration': 23.52218794822693, 'progress': 90, 'current_outline': '', 'chunk_count': 220}})\n",
      "('custom', {'message_type': 'step_progress', 'timestamp': 1754747465.746805, 'node_name': 'outline_generation', 'agent_name': '大纲生成器', 'content': '正在构建大纲结构...', 'metadata': {'step_duration': 23.926832914352417, 'progress': 90, 'current_outline': '', 'chunk_count': 225}})\n",
      "('custom', {'message_type': 'step_progress', 'timestamp': 1754747466.188685, 'node_name': 'outline_generation', 'agent_name': '大纲生成器', 'content': '正在构建大纲结构...', 'metadata': {'step_duration': 24.368712902069092, 'progress': 90, 'current_outline': '', 'chunk_count': 230}})\n",
      "('custom', {'message_type': 'step_progress', 'timestamp': 1754747466.599951, 'node_name': 'outline_generation', 'agent_name': '大纲生成器', 'content': '正在构建大纲结构...', 'metadata': {'step_duration': 24.779979944229126, 'progress': 90, 'current_outline': '', 'chunk_count': 235}})\n",
      "('custom', {'message_type': 'step_progress', 'timestamp': 1754747466.8906538, 'node_name': 'outline_generation', 'agent_name': '大纲生成器', 'content': '正在构建大纲结构...', 'metadata': {'step_duration': 25.07068181037903, 'progress': 90, 'current_outline': '', 'chunk_count': 240}})\n",
      "('custom', {'message_type': 'step_progress', 'timestamp': 1754747467.306221, 'node_name': 'outline_generation', 'agent_name': '大纲生成器', 'content': '正在构建大纲结构...', 'metadata': {'step_duration': 25.48624897003174, 'progress': 90, 'current_outline': '', 'chunk_count': 245}})\n",
      "('custom', {'message_type': 'step_progress', 'timestamp': 1754747468.112602, 'node_name': 'outline_generation', 'agent_name': '大纲生成器', 'content': '正在构建大纲结构...', 'metadata': {'step_duration': 26.292629957199097, 'progress': 90, 'current_outline': '', 'chunk_count': 250}})\n",
      "('custom', {'message_type': 'step_progress', 'timestamp': 1754747468.390723, 'node_name': 'outline_generation', 'agent_name': '大纲生成器', 'content': '正在构建大纲结构...', 'metadata': {'step_duration': 26.570750951766968, 'progress': 90, 'current_outline': '', 'chunk_count': 255}})\n",
      "('custom', {'message_type': 'step_progress', 'timestamp': 1754747468.788339, 'node_name': 'outline_generation', 'agent_name': '大纲生成器', 'content': '正在构建大纲结构...', 'metadata': {'step_duration': 26.968366861343384, 'progress': 90, 'current_outline': '', 'chunk_count': 260}})\n",
      "('custom', {'message_type': 'step_progress', 'timestamp': 1754747469.179103, 'node_name': 'outline_generation', 'agent_name': '大纲生成器', 'content': '正在构建大纲结构...', 'metadata': {'step_duration': 27.359130859375, 'progress': 90, 'current_outline': '', 'chunk_count': 265}})\n",
      "('custom', {'message_type': 'step_progress', 'timestamp': 1754747469.460167, 'node_name': 'outline_generation', 'agent_name': '大纲生成器', 'content': '正在构建大纲结构...', 'metadata': {'step_duration': 27.6401948928833, 'progress': 90, 'current_outline': '', 'chunk_count': 270}})\n",
      "('custom', {'message_type': 'step_progress', 'timestamp': 1754747469.859809, 'node_name': 'outline_generation', 'agent_name': '大纲生成器', 'content': '正在构建大纲结构...', 'metadata': {'step_duration': 28.039836883544922, 'progress': 90, 'current_outline': '', 'chunk_count': 275}})\n",
      "('custom', {'message_type': 'step_progress', 'timestamp': 1754747470.916594, 'node_name': 'outline_generation', 'agent_name': '大纲生成器', 'content': '正在构建大纲结构...', 'metadata': {'step_duration': 29.096622943878174, 'progress': 90, 'current_outline': '', 'chunk_count': 280}})\n",
      "('custom', {'message_type': 'step_progress', 'timestamp': 1754747472.306268, 'node_name': 'outline_generation', 'agent_name': '大纲生成器', 'content': '正在构建大纲结构...', 'metadata': {'step_duration': 30.48629593849182, 'progress': 90, 'current_outline': '', 'chunk_count': 285}})\n",
      "('custom', {'message_type': 'step_progress', 'timestamp': 1754747473.1625001, 'node_name': 'outline_generation', 'agent_name': '大纲生成器', 'content': '正在构建大纲结构...', 'metadata': {'step_duration': 31.342528104782104, 'progress': 90, 'current_outline': '', 'chunk_count': 290}})\n",
      "('custom', {'message_type': 'step_progress', 'timestamp': 1754747473.440793, 'node_name': 'outline_generation', 'agent_name': '大纲生成器', 'content': '正在构建大纲结构...', 'metadata': {'step_duration': 31.620820999145508, 'progress': 90, 'current_outline': '', 'chunk_count': 295}})\n",
      "('custom', {'message_type': 'step_progress', 'timestamp': 1754747473.732255, 'node_name': 'outline_generation', 'agent_name': '大纲生成器', 'content': '正在构建大纲结构...', 'metadata': {'step_duration': 31.912282943725586, 'progress': 90, 'current_outline': '', 'chunk_count': 300}})\n",
      "('custom', {'message_type': 'step_progress', 'timestamp': 1754747474.0181818, 'node_name': 'outline_generation', 'agent_name': '大纲生成器', 'content': '正在构建大纲结构...', 'metadata': {'step_duration': 32.19820976257324, 'progress': 90, 'current_outline': '', 'chunk_count': 305}})\n",
      "('custom', {'message_type': 'step_progress', 'timestamp': 1754747474.668272, 'node_name': 'outline_generation', 'agent_name': '大纲生成器', 'content': '正在构建大纲结构...', 'metadata': {'step_duration': 32.848299980163574, 'progress': 90, 'current_outline': '', 'chunk_count': 310}})\n",
      "('custom', {'message_type': 'step_progress', 'timestamp': 1754747475.0727758, 'node_name': 'outline_generation', 'agent_name': '大纲生成器', 'content': '正在构建大纲结构...', 'metadata': {'step_duration': 33.252803802490234, 'progress': 90, 'current_outline': '', 'chunk_count': 315}})\n",
      "('custom', {'message_type': 'step_progress', 'timestamp': 1754747475.358449, 'node_name': 'outline_generation', 'agent_name': '大纲生成器', 'content': '正在构建大纲结构...', 'metadata': {'step_duration': 33.53847694396973, 'progress': 90, 'current_outline': '', 'chunk_count': 320}})\n",
      "('custom', {'message_type': 'step_progress', 'timestamp': 1754747475.756617, 'node_name': 'outline_generation', 'agent_name': '大纲生成器', 'content': '正在构建大纲结构...', 'metadata': {'step_duration': 33.93664503097534, 'progress': 90, 'current_outline': '', 'chunk_count': 325}})\n",
      "('custom', {'message_type': 'step_progress', 'timestamp': 1754747476.171971, 'node_name': 'outline_generation', 'agent_name': '大纲生成器', 'content': '正在构建大纲结构...', 'metadata': {'step_duration': 34.35199999809265, 'progress': 90, 'current_outline': '', 'chunk_count': 330}})\n",
      "('custom', {'message_type': 'step_progress', 'timestamp': 1754747476.491752, 'node_name': 'outline_generation', 'agent_name': '大纲生成器', 'content': '正在构建大纲结构...', 'metadata': {'step_duration': 34.67177987098694, 'progress': 90, 'current_outline': '', 'chunk_count': 335}})\n",
      "('custom', {'message_type': 'step_progress', 'timestamp': 1754747477.282609, 'node_name': 'outline_generation', 'agent_name': '大纲生成器', 'content': '正在构建大纲结构...', 'metadata': {'step_duration': 35.462636947631836, 'progress': 90, 'current_outline': '', 'chunk_count': 340}})\n",
      "('custom', {'message_type': 'step_progress', 'timestamp': 1754747477.686041, 'node_name': 'outline_generation', 'agent_name': '大纲生成器', 'content': '正在构建大纲结构...', 'metadata': {'step_duration': 35.866069078445435, 'progress': 90, 'current_outline': '', 'chunk_count': 345}})\n",
      "('custom', {'message_type': 'step_progress', 'timestamp': 1754747477.977228, 'node_name': 'outline_generation', 'agent_name': '大纲生成器', 'content': '正在构建大纲结构...', 'metadata': {'step_duration': 36.15725588798523, 'progress': 90, 'current_outline': '', 'chunk_count': 350}})\n",
      "('custom', {'message_type': 'step_progress', 'timestamp': 1754747478.3854568, 'node_name': 'outline_generation', 'agent_name': '大纲生成器', 'content': '正在构建大纲结构...', 'metadata': {'step_duration': 36.56548476219177, 'progress': 90, 'current_outline': '', 'chunk_count': 355}})\n",
      "('custom', {'message_type': 'step_progress', 'timestamp': 1754747478.816963, 'node_name': 'outline_generation', 'agent_name': '大纲生成器', 'content': '正在构建大纲结构...', 'metadata': {'step_duration': 36.99699091911316, 'progress': 90, 'current_outline': '', 'chunk_count': 360}})\n",
      "('custom', {'message_type': 'step_progress', 'timestamp': 1754747479.529431, 'node_name': 'outline_generation', 'agent_name': '大纲生成器', 'content': '正在构建大纲结构...', 'metadata': {'step_duration': 37.70946002006531, 'progress': 90, 'current_outline': '', 'chunk_count': 365}})\n",
      "('custom', {'message_type': 'step_progress', 'timestamp': 1754747480.963068, 'node_name': 'outline_generation', 'agent_name': '大纲生成器', 'content': '正在构建大纲结构...', 'metadata': {'step_duration': 39.14309597015381, 'progress': 90, 'current_outline': '', 'chunk_count': 370}})\n",
      "('custom', {'message_type': 'step_progress', 'timestamp': 1754747481.782569, 'node_name': 'outline_generation', 'agent_name': '大纲生成器', 'content': '正在构建大纲结构...', 'metadata': {'step_duration': 39.96259689331055, 'progress': 90, 'current_outline': '', 'chunk_count': 375}})\n",
      "('custom', {'message_type': 'step_progress', 'timestamp': 1754747482.369866, 'node_name': 'outline_generation', 'agent_name': '大纲生成器', 'content': '正在构建大纲结构...', 'metadata': {'step_duration': 40.54989504814148, 'progress': 90, 'current_outline': '', 'chunk_count': 380}})\n",
      "('custom', {'message_type': 'step_progress', 'timestamp': 1754747482.653137, 'node_name': 'outline_generation', 'agent_name': '大纲生成器', 'content': '正在构建大纲结构...', 'metadata': {'step_duration': 40.83316493034363, 'progress': 90, 'current_outline': '', 'chunk_count': 385}})\n",
      "('custom', {'message_type': 'step_progress', 'timestamp': 1754747482.948964, 'node_name': 'outline_generation', 'agent_name': '大纲生成器', 'content': '正在构建大纲结构...', 'metadata': {'step_duration': 41.12899208068848, 'progress': 90, 'current_outline': '', 'chunk_count': 390}})\n",
      "('custom', {'message_type': 'step_progress', 'timestamp': 1754747483.228112, 'node_name': 'outline_generation', 'agent_name': '大纲生成器', 'content': '正在构建大纲结构...', 'metadata': {'step_duration': 41.40813994407654, 'progress': 90, 'current_outline': '', 'chunk_count': 395}})\n",
      "('custom', {'message_type': 'step_progress', 'timestamp': 1754747483.80831, 'node_name': 'outline_generation', 'agent_name': '大纲生成器', 'content': '正在构建大纲结构...', 'metadata': {'step_duration': 41.988337993621826, 'progress': 90, 'current_outline': '', 'chunk_count': 400}})\n",
      "('custom', {'message_type': 'step_progress', 'timestamp': 1754747484.176927, 'node_name': 'outline_generation', 'agent_name': '大纲生成器', 'content': '正在构建大纲结构...', 'metadata': {'step_duration': 42.35695505142212, 'progress': 90, 'current_outline': '', 'chunk_count': 405}})\n",
      "('custom', {'message_type': 'step_progress', 'timestamp': 1754747484.585599, 'node_name': 'outline_generation', 'agent_name': '大纲生成器', 'content': '正在构建大纲结构...', 'metadata': {'step_duration': 42.76562690734863, 'progress': 90, 'current_outline': '', 'chunk_count': 410}})\n",
      "('custom', {'message_type': 'step_progress', 'timestamp': 1754747484.999369, 'node_name': 'outline_generation', 'agent_name': '大纲生成器', 'content': '正在构建大纲结构...', 'metadata': {'step_duration': 43.179396867752075, 'progress': 90, 'current_outline': '', 'chunk_count': 415}})\n"
     ]
    },
    {
     "name": "stdout",
     "output_type": "stream",
     "text": [
      "('custom', {'message_type': 'content_streaming', 'timestamp': 1754747675.947339, 'node_name': 'intelligent_research', 'agent_name': '深度研究报告生成', 'content': '### 引言\\n\\n#### 研究背景\\n本研究聚焦于一个正处于快速发展阶段的领域。根据最新的网络搜索结果显示，该领域的市场规模预计在未来五年内增长150%，技术方面也取得了显著进步，例如算法优化使得性能提升了300%。这些成就不仅反映了该领域的创新活力，也为未来的增长奠定了坚实的基础。\\n\\n为了进一步了解该领域的具体情况，我们进行了详细的行业数据和趋势分析。以下是一些关键发现：\\n\\n- **市场规模**：2023年，该领域的全球市场规模约为200亿美元。预计到2028年，市场规模将达到500亿美元，复合年增长率（CAGR）为19.6%。\\n- **技术进步**：近年来，算法优化使得性能提升了300%，特别是在机器学习和人工智能领域。新兴技术如量子计算和区块链也在该领域得到应用，推动了技术的进一步发展。\\n- **市场动态**：主要参与者包括谷歌、微软、IBM等科技巨头，以及一批新兴的初创企业。市场竞争日益激烈，技术创新成为企业竞争的关键因素。\\n- **政策支持**：多个国家和地区政府出台了多项支持政策，包括资金投入、税收优惠和技术标准制定。政策的支持为该领域的发展提供了有力保障。\\n\\n#### 研究...', 'metadata': {'step_duration': 164.20199823379517, 'chunk_index': 0, 'is_streaming': True}})\n",
      "('custom', {'message_type': 'reasoning', 'timestamp': 1754747675.950659, 'node_name': 'intelligent_research', 'agent_name': '深度研究报告生成', 'content': '\\n    🧠 智能调度分析完成：\\n    - 决策：research\\n    - 理由：根据当前项目状态，第1章尚未开始研究，需要首先进行研究以收集必要的信息和数据。\\n    - 质量反馈：当前章节尚未开始研究，无法进行质量评估。\\n    - 置信度：100.0%\\n    - 当前进度：0/7章节\\n    ', 'metadata': {'step_duration': 164.20531916618347}})\n",
      "('custom', {'message_type': 'reasoning', 'timestamp': 1754747675.9507022, 'node_name': 'intelligent_research', 'agent_name': '深度研究报告生成', 'content': '\\n    🧠 智能调度分析完成：\\n    - 决策：writing\\n    - 理由：当前章节的研究已完成，且内容长度和预览显示研究结果较为充分。根据决策建议，应开始进行写作。\\n    - 质量反馈：研究内容较为全面，涵盖了研究背景、目的和重要性。建议在写作时确保内容清晰、逻辑性强，能够引导读者对后续章节产生兴趣。\\n    - 置信度：90.0%\\n    - 当前进度：0/7章节\\n    ', 'metadata': {'step_duration': 164.20536136627197}})\n",
      "('custom', {'message_type': 'reasoning', 'timestamp': 1754747675.950721, 'node_name': 'intelligent_research', 'agent_name': '深度研究报告生成', 'content': '整合所有内容，生成最终报告 (总字数: 0)', 'metadata': {'step_duration': 164.20538020133972}})\n"
     ]
    },
    {
     "name": "stderr",
     "output_type": "stream",
     "text": [
      "INFO:httpx:HTTP Request: POST https://llm.3qiao.vip:23436/v1/chat/completions \"HTTP/1.1 200 OK\"\n",
      "INFO:subgraph.update.graph:🎯 Supervisor指定目标章节: 2, 更新索引 0 → 1\n",
      "INFO:subgraph.update.graph:🔍 Research节点 - 当前章节索引: 1, 总章节数: 7\n",
      "INFO:subgraph.update.graph:📖 开始处理章节: 人工智能技术概述 (ID: 2)\n",
      "INFO:subgraph.update.graph:开始研究: 人工智能技术概述 (第1次尝试)\n",
      "INFO:subgraph.update.graph:Agent开始研究: 人工智能技术概述\n"
     ]
    },
    {
     "name": "stdout",
     "output_type": "stream",
     "text": [
      "('custom', {'message_type': 'reasoning', 'timestamp': 1754747681.994519, 'node_name': 'intelligent_research', 'agent_name': '深度研究报告生成', 'content': '\\n    🧠 智能调度分析完成：\\n    - 决策：research\\n    - 理由：根据当前项目状态，第1章尚未开始研究，需要首先进行研究以收集必要的信息和数据。\\n    - 质量反馈：当前章节尚未开始研究，无法进行质量评估。\\n    - 置信度：100.0%\\n    - 当前进度：0/7章节\\n    ', 'metadata': {'step_duration': 170.24917817115784}})\n",
      "('custom', {'message_type': 'reasoning', 'timestamp': 1754747681.994539, 'node_name': 'intelligent_research', 'agent_name': '深度研究报告生成', 'content': '\\n    🧠 智能调度分析完成：\\n    - 决策：writing\\n    - 理由：当前章节的研究已完成，且内容长度和预览显示研究结果较为充分。根据决策建议，应开始进行写作。\\n    - 质量反馈：研究内容较为全面，涵盖了研究背景、目的和重要性。建议在写作时确保内容清晰、逻辑性强，能够引导读者对后续章节产生兴趣。\\n    - 置信度：90.0%\\n    - 当前进度：0/7章节\\n    ', 'metadata': {'step_duration': 170.24919819831848}})\n",
      "('custom', {'message_type': 'reasoning', 'timestamp': 1754747681.994546, 'node_name': 'intelligent_research', 'agent_name': '深度研究报告生成', 'content': '\\n    🧠 智能调度分析完成：\\n    - 决策：research\\n    - 理由：根据Supervisor指示，切换到目标章节: 人工智能技术概述\\n    - 质量反馈：当前章节的研究内容和写作内容均已完成，且内容预览显示质量良好，无需进一步改进。\\n    - 置信度：90.0%\\n    - 当前进度：1/7章节\\n    ', 'metadata': {'step_duration': 170.24920511245728}})\n",
      "('custom', {'message_type': 'reasoning', 'timestamp': 1754747681.994564, 'node_name': 'intelligent_research', 'agent_name': '深度研究报告生成', 'content': '整合所有内容，生成最终报告 (总字数: 0)', 'metadata': {'step_duration': 170.2492232322693}})\n"
     ]
    },
    {
     "name": "stderr",
     "output_type": "stream",
     "text": [
      "INFO:httpx:HTTP Request: POST https://llm.3qiao.vip:23436/v1/chat/completions \"HTTP/1.1 200 OK\"\n"
     ]
    }
   ],
   "source": [
    "from graph import create_deep_research_graph\n",
    "from state import create_simple_state\n",
    "from langgraph.checkpoint.memory import InMemorySaver\n",
    "import time\n",
    "# 只需要提供主题！\n",
    "initial_state = create_simple_state(\"人工智能发展全景分析\")\n",
    "\n",
    "workflow = create_deep_research_graph()\n",
    "app = workflow.compile(checkpointer=InMemorySaver())\n",
    "config = {\"configurable\": {\"thread_id\": f\"research_{int(time.time())}\"}}\n",
    "\n",
    "async for chunk in app.astream(initial_state, config=config, stream_mode=[\"custom\",\"updates\"]):\n",
    "    print(chunk)"
   ]
  }
 ],
 "metadata": {
  "kernelspec": {
   "display_name": "langgraph",
   "language": "python",
   "name": "python3"
  },
  "language_info": {
   "codemirror_mode": {
    "name": "ipython",
    "version": 3
   },
   "file_extension": ".py",
   "mimetype": "text/x-python",
   "name": "python",
   "nbconvert_exporter": "python",
   "pygments_lexer": "ipython3",
   "version": "3.11.13"
  }
 },
 "nbformat": 4,
 "nbformat_minor": 5
}
